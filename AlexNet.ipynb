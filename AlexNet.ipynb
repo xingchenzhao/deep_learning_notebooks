{
  "nbformat": 4,
  "nbformat_minor": 0,
  "metadata": {
    "colab": {
      "name": "AlexNet.ipynb",
      "provenance": [],
      "collapsed_sections": [],
      "include_colab_link": true
    },
    "kernelspec": {
      "name": "python3",
      "display_name": "Python 3"
    },
    "accelerator": "GPU"
  },
  "cells": [
    {
      "cell_type": "markdown",
      "metadata": {
        "id": "view-in-github",
        "colab_type": "text"
      },
      "source": [
        "<a href=\"https://colab.research.google.com/github/xingchenzhao/study_deep_learning/blob/master/AlexNet.ipynb\" target=\"_parent\"><img src=\"https://colab.research.google.com/assets/colab-badge.svg\" alt=\"Open In Colab\"/></a>"
      ]
    },
    {
      "cell_type": "code",
      "metadata": {
        "id": "QIRC8AWvjVCS",
        "colab_type": "code",
        "colab": {}
      },
      "source": [
        "!pip install d2lzh  # installing d2l\n",
        "!pip install -U --pre mxnet-cu101mkl  # updating mxnet to at least v1.6"
      ],
      "execution_count": 0,
      "outputs": []
    },
    {
      "cell_type": "code",
      "metadata": {
        "id": "9jnIhlQEjbgj",
        "colab_type": "code",
        "colab": {}
      },
      "source": [
        "import d2lzh as d2l\n",
        "from mxnet import gluon, init, nd\n",
        "from mxnet.gluon import data as gdata, nn\n",
        "import os\n",
        "import sys"
      ],
      "execution_count": 0,
      "outputs": []
    },
    {
      "cell_type": "markdown",
      "metadata": {
        "id": "rXOuNx-OpUHm",
        "colab_type": "text"
      },
      "source": [
        "**Let's build a *AlexNet***"
      ]
    },
    {
      "cell_type": "code",
      "metadata": {
        "id": "ZLInEki0jecb",
        "colab_type": "code",
        "colab": {}
      },
      "source": [
        "net = nn.Sequential()\n",
        "net.add(nn.Conv2D(96, kernel_size=11, strides=4, activation='relu'),\n",
        "        nn.MaxPool2D(pool_size=3, strides=2),\n",
        "        nn.Conv2D(256, kernel_size=5, padding=2, activation='relu'),\n",
        "        nn.MaxPool2D(pool_size=3, strides=2),\n",
        "        nn.Conv2D(384, kernel_size=3, padding=1, activation='relu'),\n",
        "        nn.Conv2D(384, kernel_size=3, padding=1, activation='relu'),\n",
        "        nn.Conv2D(256, kernel_size=3, padding=1, activation='relu'),\n",
        "        nn.MaxPool2D(pool_size=3, strides=2),\n",
        "        nn.Dense(4096, activation='relu'), nn.Dropout(0.7),\n",
        "        nn.Dense(4096, activation='relu'), nn.Dropout(0.5),\n",
        "        nn.Dense(10))"
      ],
      "execution_count": 0,
      "outputs": []
    },
    {
      "cell_type": "markdown",
      "metadata": {
        "id": "9RPis-QZp6ip",
        "colab_type": "text"
      },
      "source": [
        "Build a 224*224 with 1 channel data to see the shape of each layer"
      ]
    },
    {
      "cell_type": "code",
      "metadata": {
        "id": "aC7ejdyqpkXk",
        "colab_type": "code",
        "outputId": "f055ef09-7c10-4d58-e033-2deb92a83fad",
        "colab": {
          "base_uri": "https://localhost:8080/",
          "height": 238
        }
      },
      "source": [
        "X = nd.random.uniform(shape=(1,1,224,224))\n",
        "net.initialize()\n",
        "for layer in net:\n",
        "  X = layer(X)\n",
        "  print(layer.name, 'output shape:\\t', X.shape)"
      ],
      "execution_count": 0,
      "outputs": [
        {
          "output_type": "stream",
          "text": [
            "conv0 output shape:\t (1, 96, 54, 54)\n",
            "pool0 output shape:\t (1, 96, 26, 26)\n",
            "conv1 output shape:\t (1, 256, 26, 26)\n",
            "pool1 output shape:\t (1, 256, 12, 12)\n",
            "conv2 output shape:\t (1, 384, 12, 12)\n",
            "conv3 output shape:\t (1, 384, 12, 12)\n",
            "conv4 output shape:\t (1, 256, 12, 12)\n",
            "pool2 output shape:\t (1, 256, 5, 5)\n",
            "dense0 output shape:\t (1, 4096)\n",
            "dropout0 output shape:\t (1, 4096)\n",
            "dense1 output shape:\t (1, 4096)\n",
            "dropout1 output shape:\t (1, 4096)\n",
            "dense2 output shape:\t (1, 10)\n"
          ],
          "name": "stdout"
        }
      ]
    },
    {
      "cell_type": "markdown",
      "metadata": {
        "id": "N9I2cZQAqF24",
        "colab_type": "text"
      },
      "source": [
        "Loading Data"
      ]
    },
    {
      "cell_type": "code",
      "metadata": {
        "id": "B-82QvhRqE1J",
        "colab_type": "code",
        "colab": {}
      },
      "source": [
        "def load_data_fashion_mnist(batch_size, resize=None, root=os.path.join(\n",
        "    '~','.mxnet', 'datasets', 'fashion-mnist')):\n",
        "    root = os.path.expanduser(root)\n",
        "    transformer = []\n",
        "    if resize:\n",
        "      transformer += [gdata.vision.transforms.Resize(resize)]\n",
        "    transformer += [gdata.vision.transforms.ToTensor()]\n",
        "    transformer = gdata.vision.transforms.Compose(transformer)\n",
        "    mnist_train = gdata.vision.FashionMNIST(root=root, train=True)\n",
        "    mnist_test = gdata.vision.FashionMNIST(root=root, train=False)\n",
        "    num_workers = 0 if sys.platform.startswith('win32') else 4\n",
        "    train_iter = gdata.DataLoader(\n",
        "          mnist_train.transform_first(transformer), batch_size, shuffle=True,\n",
        "          num_workers=num_workers)\n",
        "    test_iter = gdata.DataLoader(\n",
        "          mnist_test.transform_first(transformer), batch_size, shuffle=False,\n",
        "          num_workers=num_workers)\n",
        "    return train_iter, test_iter\n",
        "\n",
        "batch_size = 128\n",
        "train_iter, test_iter = load_data_fashion_mnist(batch_size, resize=224)"
      ],
      "execution_count": 0,
      "outputs": []
    },
    {
      "cell_type": "markdown",
      "metadata": {
        "id": "pPk_UChPr2LU",
        "colab_type": "text"
      },
      "source": [
        "Training AlexNet. We use a small learning rate due to the complexities of AlexNet"
      ]
    },
    {
      "cell_type": "code",
      "metadata": {
        "id": "gQ5EJYJRr1lu",
        "colab_type": "code",
        "outputId": "ce5c771a-d80b-489f-ba18-933aea9f960e",
        "colab": {
          "base_uri": "https://localhost:8080/",
          "height": 1000
        }
      },
      "source": [
        "lr, num_epochs, ctx = 0.01, 120, d2l.try_gpu()\n",
        "net.initialize(force_reinit=True, ctx=ctx, init=init.Xavier())\n",
        "trainer = gluon.Trainer(net.collect_params(), 'sgd', {'learning_rate':lr})\n",
        "d2l.train_ch5(net, train_iter, test_iter, batch_size, trainer, ctx, num_epochs)"
      ],
      "execution_count": 0,
      "outputs": [
        {
          "output_type": "stream",
          "text": [
            "training on gpu(0)\n",
            "epoch 1, loss 1.4020, train acc 0.471, test acc 0.740, time 36.0 sec\n",
            "epoch 2, loss 0.6987, train acc 0.740, test acc 0.787, time 33.5 sec\n",
            "epoch 3, loss 0.5733, train acc 0.784, test acc 0.827, time 33.5 sec\n",
            "epoch 4, loss 0.5058, train acc 0.814, test acc 0.842, time 33.6 sec\n",
            "epoch 5, loss 0.4572, train acc 0.833, test acc 0.861, time 33.6 sec\n",
            "epoch 6, loss 0.4239, train acc 0.844, test acc 0.871, time 33.4 sec\n",
            "epoch 7, loss 0.4008, train acc 0.854, test acc 0.876, time 33.6 sec\n",
            "epoch 8, loss 0.3805, train acc 0.860, test acc 0.876, time 33.6 sec\n",
            "epoch 9, loss 0.3652, train acc 0.867, test acc 0.880, time 33.7 sec\n",
            "epoch 10, loss 0.3530, train acc 0.872, test acc 0.888, time 33.7 sec\n",
            "epoch 11, loss 0.3383, train acc 0.876, test acc 0.890, time 33.7 sec\n",
            "epoch 12, loss 0.3321, train acc 0.878, test acc 0.892, time 33.7 sec\n",
            "epoch 13, loss 0.3195, train acc 0.882, test acc 0.891, time 33.5 sec\n",
            "epoch 14, loss 0.3142, train acc 0.886, test acc 0.897, time 33.7 sec\n",
            "epoch 15, loss 0.3052, train acc 0.889, test acc 0.900, time 33.5 sec\n",
            "epoch 16, loss 0.2972, train acc 0.891, test acc 0.899, time 33.7 sec\n",
            "epoch 17, loss 0.2916, train acc 0.894, test acc 0.900, time 33.6 sec\n",
            "epoch 18, loss 0.2861, train acc 0.896, test acc 0.904, time 33.5 sec\n",
            "epoch 19, loss 0.2791, train acc 0.897, test acc 0.906, time 33.7 sec\n",
            "epoch 20, loss 0.2717, train acc 0.900, test acc 0.905, time 33.6 sec\n",
            "epoch 21, loss 0.2675, train acc 0.903, test acc 0.907, time 33.7 sec\n",
            "epoch 22, loss 0.2625, train acc 0.904, test acc 0.907, time 33.6 sec\n",
            "epoch 23, loss 0.2575, train acc 0.905, test acc 0.909, time 33.7 sec\n",
            "epoch 24, loss 0.2524, train acc 0.908, test acc 0.904, time 33.6 sec\n",
            "epoch 25, loss 0.2491, train acc 0.909, test acc 0.904, time 33.7 sec\n",
            "epoch 26, loss 0.2426, train acc 0.911, test acc 0.915, time 33.7 sec\n",
            "epoch 27, loss 0.2396, train acc 0.912, test acc 0.911, time 33.5 sec\n",
            "epoch 28, loss 0.2344, train acc 0.913, test acc 0.913, time 33.6 sec\n",
            "epoch 29, loss 0.2311, train acc 0.915, test acc 0.916, time 33.5 sec\n",
            "epoch 30, loss 0.2248, train acc 0.918, test acc 0.917, time 33.5 sec\n",
            "epoch 31, loss 0.2226, train acc 0.918, test acc 0.916, time 33.5 sec\n",
            "epoch 32, loss 0.2179, train acc 0.920, test acc 0.916, time 33.6 sec\n",
            "epoch 33, loss 0.2139, train acc 0.921, test acc 0.920, time 33.7 sec\n",
            "epoch 34, loss 0.2106, train acc 0.922, test acc 0.919, time 33.6 sec\n",
            "epoch 35, loss 0.2071, train acc 0.923, test acc 0.918, time 33.6 sec\n",
            "epoch 36, loss 0.2028, train acc 0.924, test acc 0.920, time 33.6 sec\n",
            "epoch 37, loss 0.1987, train acc 0.928, test acc 0.921, time 33.5 sec\n",
            "epoch 38, loss 0.1947, train acc 0.928, test acc 0.920, time 33.5 sec\n",
            "epoch 39, loss 0.1926, train acc 0.929, test acc 0.920, time 33.6 sec\n",
            "epoch 40, loss 0.1898, train acc 0.930, test acc 0.921, time 33.6 sec\n",
            "epoch 41, loss 0.1851, train acc 0.931, test acc 0.920, time 33.6 sec\n",
            "epoch 42, loss 0.1831, train acc 0.932, test acc 0.919, time 33.7 sec\n",
            "epoch 43, loss 0.1767, train acc 0.934, test acc 0.926, time 33.6 sec\n",
            "epoch 44, loss 0.1767, train acc 0.933, test acc 0.924, time 33.6 sec\n",
            "epoch 45, loss 0.1722, train acc 0.935, test acc 0.923, time 33.6 sec\n",
            "epoch 46, loss 0.1684, train acc 0.937, test acc 0.926, time 33.6 sec\n",
            "epoch 47, loss 0.1650, train acc 0.939, test acc 0.925, time 33.6 sec\n",
            "epoch 48, loss 0.1622, train acc 0.939, test acc 0.925, time 33.5 sec\n",
            "epoch 49, loss 0.1566, train acc 0.942, test acc 0.927, time 33.6 sec\n",
            "epoch 50, loss 0.1563, train acc 0.942, test acc 0.924, time 33.6 sec\n",
            "epoch 51, loss 0.1541, train acc 0.942, test acc 0.925, time 33.5 sec\n",
            "epoch 52, loss 0.1480, train acc 0.945, test acc 0.928, time 33.6 sec\n",
            "epoch 53, loss 0.1455, train acc 0.945, test acc 0.927, time 33.7 sec\n",
            "epoch 54, loss 0.1443, train acc 0.946, test acc 0.926, time 33.5 sec\n",
            "epoch 55, loss 0.1412, train acc 0.947, test acc 0.926, time 33.5 sec\n",
            "epoch 56, loss 0.1375, train acc 0.949, test acc 0.928, time 33.4 sec\n",
            "epoch 57, loss 0.1353, train acc 0.950, test acc 0.925, time 33.5 sec\n",
            "epoch 58, loss 0.1314, train acc 0.950, test acc 0.927, time 33.5 sec\n",
            "epoch 59, loss 0.1305, train acc 0.951, test acc 0.927, time 33.3 sec\n",
            "epoch 60, loss 0.1247, train acc 0.953, test acc 0.929, time 33.4 sec\n",
            "epoch 61, loss 0.1234, train acc 0.954, test acc 0.931, time 33.5 sec\n",
            "epoch 62, loss 0.1204, train acc 0.954, test acc 0.926, time 33.5 sec\n",
            "epoch 63, loss 0.1190, train acc 0.955, test acc 0.926, time 33.5 sec\n",
            "epoch 64, loss 0.1163, train acc 0.956, test acc 0.926, time 33.5 sec\n",
            "epoch 65, loss 0.1136, train acc 0.957, test acc 0.929, time 33.3 sec\n",
            "epoch 66, loss 0.1106, train acc 0.958, test acc 0.930, time 33.5 sec\n",
            "epoch 67, loss 0.1073, train acc 0.960, test acc 0.930, time 33.6 sec\n",
            "epoch 68, loss 0.1069, train acc 0.960, test acc 0.931, time 33.5 sec\n",
            "epoch 69, loss 0.1035, train acc 0.961, test acc 0.931, time 33.5 sec\n",
            "epoch 70, loss 0.1018, train acc 0.961, test acc 0.932, time 33.4 sec\n",
            "epoch 71, loss 0.0983, train acc 0.963, test acc 0.931, time 33.4 sec\n",
            "epoch 72, loss 0.0960, train acc 0.963, test acc 0.928, time 33.5 sec\n",
            "epoch 73, loss 0.0930, train acc 0.965, test acc 0.930, time 33.4 sec\n",
            "epoch 74, loss 0.0901, train acc 0.966, test acc 0.931, time 33.3 sec\n",
            "epoch 75, loss 0.0902, train acc 0.966, test acc 0.928, time 33.3 sec\n",
            "epoch 76, loss 0.0876, train acc 0.967, test acc 0.930, time 33.4 sec\n",
            "epoch 77, loss 0.0835, train acc 0.969, test acc 0.930, time 33.4 sec\n",
            "epoch 78, loss 0.0833, train acc 0.968, test acc 0.927, time 33.5 sec\n",
            "epoch 79, loss 0.0793, train acc 0.970, test acc 0.928, time 33.7 sec\n",
            "epoch 80, loss 0.0797, train acc 0.970, test acc 0.930, time 33.5 sec\n",
            "epoch 81, loss 0.0756, train acc 0.972, test acc 0.928, time 33.7 sec\n",
            "epoch 82, loss 0.0739, train acc 0.972, test acc 0.926, time 33.8 sec\n",
            "epoch 83, loss 0.0739, train acc 0.972, test acc 0.931, time 33.8 sec\n",
            "epoch 84, loss 0.0701, train acc 0.974, test acc 0.929, time 33.8 sec\n",
            "epoch 85, loss 0.0691, train acc 0.974, test acc 0.931, time 33.7 sec\n",
            "epoch 86, loss 0.0685, train acc 0.974, test acc 0.932, time 33.7 sec\n",
            "epoch 87, loss 0.0651, train acc 0.976, test acc 0.929, time 33.5 sec\n",
            "epoch 88, loss 0.0627, train acc 0.977, test acc 0.929, time 33.6 sec\n",
            "epoch 89, loss 0.0623, train acc 0.977, test acc 0.930, time 33.5 sec\n",
            "epoch 90, loss 0.0592, train acc 0.978, test acc 0.931, time 33.5 sec\n",
            "epoch 91, loss 0.0585, train acc 0.978, test acc 0.932, time 33.5 sec\n",
            "epoch 92, loss 0.0567, train acc 0.980, test acc 0.931, time 33.6 sec\n",
            "epoch 93, loss 0.0534, train acc 0.980, test acc 0.931, time 33.5 sec\n",
            "epoch 94, loss 0.0524, train acc 0.981, test acc 0.932, time 33.5 sec\n",
            "epoch 95, loss 0.0521, train acc 0.981, test acc 0.933, time 33.4 sec\n",
            "epoch 96, loss 0.0519, train acc 0.981, test acc 0.933, time 33.5 sec\n",
            "epoch 97, loss 0.0491, train acc 0.983, test acc 0.932, time 33.5 sec\n",
            "epoch 98, loss 0.0496, train acc 0.981, test acc 0.930, time 33.4 sec\n",
            "epoch 99, loss 0.0466, train acc 0.983, test acc 0.931, time 33.4 sec\n",
            "epoch 100, loss 0.0454, train acc 0.983, test acc 0.932, time 33.7 sec\n",
            "epoch 101, loss 0.0444, train acc 0.984, test acc 0.932, time 33.6 sec\n",
            "epoch 102, loss 0.0461, train acc 0.984, test acc 0.930, time 33.3 sec\n",
            "epoch 103, loss 0.0422, train acc 0.984, test acc 0.931, time 33.5 sec\n",
            "epoch 104, loss 0.0418, train acc 0.985, test acc 0.930, time 33.5 sec\n",
            "epoch 105, loss 0.0376, train acc 0.986, test acc 0.929, time 33.4 sec\n",
            "epoch 106, loss 0.0368, train acc 0.987, test acc 0.932, time 33.5 sec\n",
            "epoch 107, loss 0.0386, train acc 0.986, test acc 0.930, time 33.4 sec\n",
            "epoch 108, loss 0.0398, train acc 0.985, test acc 0.931, time 33.4 sec\n",
            "epoch 109, loss 0.0371, train acc 0.986, test acc 0.930, time 33.6 sec\n",
            "epoch 110, loss 0.0360, train acc 0.986, test acc 0.932, time 33.5 sec\n",
            "epoch 111, loss 0.0352, train acc 0.987, test acc 0.931, time 33.5 sec\n",
            "epoch 112, loss 0.0354, train acc 0.986, test acc 0.933, time 33.6 sec\n",
            "epoch 113, loss 0.0328, train acc 0.988, test acc 0.932, time 33.5 sec\n",
            "epoch 114, loss 0.0312, train acc 0.988, test acc 0.932, time 33.7 sec\n",
            "epoch 115, loss 0.0328, train acc 0.988, test acc 0.934, time 33.6 sec\n",
            "epoch 116, loss 0.0316, train acc 0.988, test acc 0.932, time 33.6 sec\n",
            "epoch 117, loss 0.0321, train acc 0.988, test acc 0.930, time 33.7 sec\n",
            "epoch 118, loss 0.0300, train acc 0.989, test acc 0.931, time 33.8 sec\n",
            "epoch 119, loss 0.0271, train acc 0.990, test acc 0.933, time 33.7 sec\n",
            "epoch 120, loss 0.0289, train acc 0.989, test acc 0.933, time 33.6 sec\n"
          ],
          "name": "stdout"
        }
      ]
    },
    {
      "cell_type": "code",
      "metadata": {
        "id": "EokF7Y88Ls2j",
        "colab_type": "code",
        "outputId": "8fe8d106-9a5f-4cdc-f603-6de442acdeda",
        "colab": {
          "base_uri": "https://localhost:8080/",
          "height": 167
        }
      },
      "source": [
        "for X, y in test_iter:\n",
        "    break\n",
        "\n",
        "true_labels = d2l.get_fashion_mnist_labels(y.asnumpy())\n",
        "pred_labels = d2l.get_fashion_mnist_labels(net(X.as_in_context(ctx)).argmax(axis=1).asnumpy())\n",
        "titles = [true + '\\n' + pred for true, pred in zip(true_labels, pred_labels)]\n",
        "\n",
        "d2l.show_fashion_mnist(X[0:9], titles[0:9])"
      ],
      "execution_count": 0,
      "outputs": [
        {
          "output_type": "display_data",
          "data": {
            "text/plain": [
              "<Figure size 864x864 with 9 Axes>"
            ],
            "image/svg+xml": "<?xml version=\"1.0\" encoding=\"utf-8\" standalone=\"no\"?>\n<!DOCTYPE svg PUBLIC \"-//W3C//DTD SVG 1.1//EN\"\n  \"http://www.w3.org/Graphics/SVG/1.1/DTD/svg11.dtd\">\n<!-- Created with matplotlib (https://matplotlib.org/) -->\n<svg height=\"109.625311pt\" version=\"1.1\" viewBox=\"0 0 687.5 109.625311\" width=\"687.5pt\" xmlns=\"http://www.w3.org/2000/svg\" xmlns:xlink=\"http://www.w3.org/1999/xlink\">\n <defs>\n  <style type=\"text/css\">\n*{stroke-linecap:butt;stroke-linejoin:round;}\n  </style>\n </defs>\n <g id=\"figure_1\">\n  <g id=\"patch_1\">\n   <path d=\"M 0 109.625311 \nL 687.5 109.625311 \nL 687.5 0 \nL 0 0 \nz\n\" style=\"fill:none;\"/>\n  </g>\n  <g id=\"axes_1\">\n   <g id=\"patch_2\">\n    <path d=\"M 10.7 98.925311 \nL 73.869811 98.925311 \nL 73.869811 35.7555 \nL 10.7 35.7555 \nz\n\" style=\"fill:#ffffff;\"/>\n   </g>\n   <g clip-path=\"url(#p47ea9f0373)\">\n    <image height=\"64\" id=\"imageb039117488\" transform=\"scale(1 -1)translate(0 -64)\" width=\"64\" x=\"10.7\" xlink:href=\"data:image/png;base64,\niVBORw0KGgoAAAANSUhEUgAAAEAAAABACAYAAACqaXHeAAAABHNCSVQICAgIfAhkiAAAAvVJREFUeJztms1u00AQx39xnMZ1SKq2pCCVqkJCVc88ADfEkVfgylPweJwQAokDCCH1EBBJ1dJK+Wpjm8NmvG66StMkzkd3/xdvsuudzXi82flpCm/23icAg6N9RJfPAwAuXngA9A6uANjfP0vHvHryE4B3Ox8BOCpV0r7zqANAK07I6iwK0nYzqo70PUrbP7pPAfjVeQzA99M9AP6d6jHepQ9A0FRr3GxqW5W/EQDl86sbNrzOtW73VJ+H5Sq8fvkhAYjDUvplFBQBGGwWh58Ld05U7CV3jvG7UWa8astTkScCUOj0AEjk2m4DEHc6d9q4r6yPAOsd4CefvwGQDXJ/5Jqn5MWJxo6aTl4YAlCoqA26EOpNOBm2XQQsewF5Kt00x2yeLgLkPTEpj7+dVZOLANkhs5KDx7joEOUZJZPYn9lG7hZWXNY7wI9ardwmHw1h0+uW9mUOKfOW5BQmuQjwDw+Am14azb5Gj5Sgn1i0U1NjDdlkf1udswbDbLK/pf0dldX1Wt3O1Vac9sVl1fZqKlOsVbsAVMo6Y2z3NwDNCEotbT9oKnthU81T+aPmKf++1L/xpKFsYLl8efLrQIQajZ10jBCh0EiEBsBtIhQHG/r+Q/V7rY8A6x0wMxKbBIWJHBJbQT1oIiQq1uuAI0JGPWgiJBp33HcRYMq5bSBBIusjwHoHGJHYJF5Z5GuSJxpzEWADERKZyJCLgEmIkEiOlDB/IhQFOqm6rg0TpSER2iir/H632k7HOCI0J1nvACMSOzveBKB9oEIpDyQmEjR2XyQmIR9eqDWakJjwB2EPDokZNDURug8JEjkitIJyRChHu2shR4QWuI6VlPUOcEVSy17AspUSITlsZOWKpCzQQolQVqN0yNUILUnWOyCXIqn+tsq7JYuctUjKIbEcNXWR1NtnX9S1+hWAunebGUxbJNUaqL5PF4fA7EVSwhwcETLI1QjNfcY1kxVESP7FvPqutuuIkJL1DrACicnmGZ/c3kStj4D/Pk7W09EWjncAAAAASUVORK5CYII=\" y=\"-34.925311\"/>\n   </g>\n   <g id=\"patch_3\">\n    <path d=\"M 10.7 98.925311 \nL 10.7 35.7555 \n\" style=\"fill:none;stroke:#000000;stroke-linecap:square;stroke-linejoin:miter;stroke-width:0.8;\"/>\n   </g>\n   <g id=\"patch_4\">\n    <path d=\"M 73.869811 98.925311 \nL 73.869811 35.7555 \n\" style=\"fill:none;stroke:#000000;stroke-linecap:square;stroke-linejoin:miter;stroke-width:0.8;\"/>\n   </g>\n   <g id=\"patch_5\">\n    <path d=\"M 10.7 98.925311 \nL 73.869811 98.925311 \n\" style=\"fill:none;stroke:#000000;stroke-linecap:square;stroke-linejoin:miter;stroke-width:0.8;\"/>\n   </g>\n   <g id=\"patch_6\">\n    <path d=\"M 10.7 35.7555 \nL 73.869811 35.7555 \n\" style=\"fill:none;stroke:#000000;stroke-linecap:square;stroke-linejoin:miter;stroke-width:0.8;\"/>\n   </g>\n   <g id=\"text_1\">\n    <!-- t-shirt -->\n    <defs>\n     <path d=\"M 18.3125 70.21875 \nL 18.3125 54.6875 \nL 36.8125 54.6875 \nL 36.8125 47.703125 \nL 18.3125 47.703125 \nL 18.3125 18.015625 \nQ 18.3125 11.328125 20.140625 9.421875 \nQ 21.96875 7.515625 27.59375 7.515625 \nL 36.8125 7.515625 \nL 36.8125 0 \nL 27.59375 0 \nQ 17.1875 0 13.234375 3.875 \nQ 9.28125 7.765625 9.28125 18.015625 \nL 9.28125 47.703125 \nL 2.6875 47.703125 \nL 2.6875 54.6875 \nL 9.28125 54.6875 \nL 9.28125 70.21875 \nz\n\" id=\"DejaVuSans-116\"/>\n     <path d=\"M 4.890625 31.390625 \nL 31.203125 31.390625 \nL 31.203125 23.390625 \nL 4.890625 23.390625 \nz\n\" id=\"DejaVuSans-45\"/>\n     <path d=\"M 44.28125 53.078125 \nL 44.28125 44.578125 \nQ 40.484375 46.53125 36.375 47.5 \nQ 32.28125 48.484375 27.875 48.484375 \nQ 21.1875 48.484375 17.84375 46.4375 \nQ 14.5 44.390625 14.5 40.28125 \nQ 14.5 37.15625 16.890625 35.375 \nQ 19.28125 33.59375 26.515625 31.984375 \nL 29.59375 31.296875 \nQ 39.15625 29.25 43.1875 25.515625 \nQ 47.21875 21.78125 47.21875 15.09375 \nQ 47.21875 7.46875 41.1875 3.015625 \nQ 35.15625 -1.421875 24.609375 -1.421875 \nQ 20.21875 -1.421875 15.453125 -0.5625 \nQ 10.6875 0.296875 5.421875 2 \nL 5.421875 11.28125 \nQ 10.40625 8.6875 15.234375 7.390625 \nQ 20.0625 6.109375 24.8125 6.109375 \nQ 31.15625 6.109375 34.5625 8.28125 \nQ 37.984375 10.453125 37.984375 14.40625 \nQ 37.984375 18.0625 35.515625 20.015625 \nQ 33.0625 21.96875 24.703125 23.78125 \nL 21.578125 24.515625 \nQ 13.234375 26.265625 9.515625 29.90625 \nQ 5.8125 33.546875 5.8125 39.890625 \nQ 5.8125 47.609375 11.28125 51.796875 \nQ 16.75 56 26.8125 56 \nQ 31.78125 56 36.171875 55.265625 \nQ 40.578125 54.546875 44.28125 53.078125 \nz\n\" id=\"DejaVuSans-115\"/>\n     <path d=\"M 54.890625 33.015625 \nL 54.890625 0 \nL 45.90625 0 \nL 45.90625 32.71875 \nQ 45.90625 40.484375 42.875 44.328125 \nQ 39.84375 48.1875 33.796875 48.1875 \nQ 26.515625 48.1875 22.3125 43.546875 \nQ 18.109375 38.921875 18.109375 30.90625 \nL 18.109375 0 \nL 9.078125 0 \nL 9.078125 75.984375 \nL 18.109375 75.984375 \nL 18.109375 46.1875 \nQ 21.34375 51.125 25.703125 53.5625 \nQ 30.078125 56 35.796875 56 \nQ 45.21875 56 50.046875 50.171875 \nQ 54.890625 44.34375 54.890625 33.015625 \nz\n\" id=\"DejaVuSans-104\"/>\n     <path d=\"M 9.421875 54.6875 \nL 18.40625 54.6875 \nL 18.40625 0 \nL 9.421875 0 \nz\nM 9.421875 75.984375 \nL 18.40625 75.984375 \nL 18.40625 64.59375 \nL 9.421875 64.59375 \nz\n\" id=\"DejaVuSans-105\"/>\n     <path d=\"M 41.109375 46.296875 \nQ 39.59375 47.171875 37.8125 47.578125 \nQ 36.03125 48 33.890625 48 \nQ 26.265625 48 22.1875 43.046875 \nQ 18.109375 38.09375 18.109375 28.8125 \nL 18.109375 0 \nL 9.078125 0 \nL 9.078125 54.6875 \nL 18.109375 54.6875 \nL 18.109375 46.1875 \nQ 20.953125 51.171875 25.484375 53.578125 \nQ 30.03125 56 36.53125 56 \nQ 37.453125 56 38.578125 55.875 \nQ 39.703125 55.765625 41.0625 55.515625 \nz\n\" id=\"DejaVuSans-114\"/>\n    </defs>\n    <g transform=\"translate(24.354281 16.318125)scale(0.12 -0.12)\">\n     <use xlink:href=\"#DejaVuSans-116\"/>\n     <use x=\"39.208984\" xlink:href=\"#DejaVuSans-45\"/>\n     <use x=\"75.292969\" xlink:href=\"#DejaVuSans-115\"/>\n     <use x=\"127.392578\" xlink:href=\"#DejaVuSans-104\"/>\n     <use x=\"190.771484\" xlink:href=\"#DejaVuSans-105\"/>\n     <use x=\"218.554688\" xlink:href=\"#DejaVuSans-114\"/>\n     <use x=\"259.667969\" xlink:href=\"#DejaVuSans-116\"/>\n    </g>\n    <!-- t-shirt -->\n    <g transform=\"translate(24.354281 29.7555)scale(0.12 -0.12)\">\n     <use xlink:href=\"#DejaVuSans-116\"/>\n     <use x=\"39.208984\" xlink:href=\"#DejaVuSans-45\"/>\n     <use x=\"75.292969\" xlink:href=\"#DejaVuSans-115\"/>\n     <use x=\"127.392578\" xlink:href=\"#DejaVuSans-104\"/>\n     <use x=\"190.771484\" xlink:href=\"#DejaVuSans-105\"/>\n     <use x=\"218.554688\" xlink:href=\"#DejaVuSans-114\"/>\n     <use x=\"259.667969\" xlink:href=\"#DejaVuSans-116\"/>\n    </g>\n   </g>\n  </g>\n  <g id=\"axes_2\">\n   <g id=\"patch_7\">\n    <path d=\"M 86.503774 98.925311 \nL 149.673585 98.925311 \nL 149.673585 35.7555 \nL 86.503774 35.7555 \nz\n\" style=\"fill:#ffffff;\"/>\n   </g>\n   <g clip-path=\"url(#p611c8c0b13)\">\n    <image height=\"64\" id=\"image1dbe3ace67\" transform=\"scale(1 -1)translate(0 -64)\" width=\"64\" x=\"86.503774\" xlink:href=\"data:image/png;base64,\niVBORw0KGgoAAAANSUhEUgAAAEAAAABACAYAAACqaXHeAAAABHNCSVQICAgIfAhkiAAAArFJREFUeJztm0trFEEUhb/u6XEeiWQ2MYomC0Fc6F8QN4IbBQX3Bnf+Nzfu/AsKbgXFB8aIJoIGk0nG9MvFraruicMwY6I30Pds7tS9t6vPnCoG6lAT3T73uARIr17E4+flHgC7qxEAB6sZAMurP0LPzQtvAbg3eAnAlfZBqA2LEoAUeT4tY8mXSehJy5br7bjeVq0mfYeup3DP58ShJy9l7sLlDifM7eNe3pXv4yLAMJP3VjM2FNGt6EGpTUITjd8BJoA2AW2YANoEtGECaBPQhgmgTUAbJoA2AW0k9199A2DQ2g9J/3kQS1yKf7lxEXrOxnL6WozlhLWZ7YXak93rADzbugbAm80VANobndCzuCFx6f0hAL3XW6GWbwsn3KmSsnqvR1mURxO1z7Mfbxq/A6L15+slwDA/E5KjrC0xl1XO3Xm808pCTxKJ4t0kHRsD9FqSa8e5jGNZ5aS2g/ou143TsTFAx+UW3M7zsR1V728hqxw8g9pajgrh7/0D7wv4fL3W+B2QfLkr7s9UR2hNVmT50k7oOSlHaFS2x6LUxh0hv3JDqt+QaY5Q4Wp+TnOEpqDxApglpk1AGyaANgFtmADaBLRhAmgT0IYJoE1AG40X4K8doaVY/IO+izM5Qp9qjtBHN88kR+jr9jjLaY7QhJo5QnMgOEIHeXUe389kVU+LI+SdID+GyhHKg+dQ+QHmCM2BxgswmyXmLkmtrH0PPTfOvwNms8RGwf6qX4Sa/5LUTr4QeuyS1AnBHCFtAtowAbQJaMME0CagDRNAm4A2TABtAtpovAAn5gh9SCtH6Onef7wjZI7Q8dB4AaJHLx7KJamsuiR12iwxH7tR+scXmHZJ6mjNLLEJSD7f6QP/1hE67t/m5r0kZY7QHDBHSJuANkwAbQLaMAG0CWij8QL8BgHOmHzUk6nQAAAAAElFTkSuQmCC\" y=\"-34.925311\"/>\n   </g>\n   <g id=\"patch_8\">\n    <path d=\"M 86.503774 98.925311 \nL 86.503774 35.7555 \n\" style=\"fill:none;stroke:#000000;stroke-linecap:square;stroke-linejoin:miter;stroke-width:0.8;\"/>\n   </g>\n   <g id=\"patch_9\">\n    <path d=\"M 149.673585 98.925311 \nL 149.673585 35.7555 \n\" style=\"fill:none;stroke:#000000;stroke-linecap:square;stroke-linejoin:miter;stroke-width:0.8;\"/>\n   </g>\n   <g id=\"patch_10\">\n    <path d=\"M 86.503774 98.925311 \nL 149.673585 98.925311 \n\" style=\"fill:none;stroke:#000000;stroke-linecap:square;stroke-linejoin:miter;stroke-width:0.8;\"/>\n   </g>\n   <g id=\"patch_11\">\n    <path d=\"M 86.503774 35.7555 \nL 149.673585 35.7555 \n\" style=\"fill:none;stroke:#000000;stroke-linecap:square;stroke-linejoin:miter;stroke-width:0.8;\"/>\n   </g>\n   <g id=\"text_2\">\n    <!-- trouser -->\n    <defs>\n     <path d=\"M 30.609375 48.390625 \nQ 23.390625 48.390625 19.1875 42.75 \nQ 14.984375 37.109375 14.984375 27.296875 \nQ 14.984375 17.484375 19.15625 11.84375 \nQ 23.34375 6.203125 30.609375 6.203125 \nQ 37.796875 6.203125 41.984375 11.859375 \nQ 46.1875 17.53125 46.1875 27.296875 \nQ 46.1875 37.015625 41.984375 42.703125 \nQ 37.796875 48.390625 30.609375 48.390625 \nz\nM 30.609375 56 \nQ 42.328125 56 49.015625 48.375 \nQ 55.71875 40.765625 55.71875 27.296875 \nQ 55.71875 13.875 49.015625 6.21875 \nQ 42.328125 -1.421875 30.609375 -1.421875 \nQ 18.84375 -1.421875 12.171875 6.21875 \nQ 5.515625 13.875 5.515625 27.296875 \nQ 5.515625 40.765625 12.171875 48.375 \nQ 18.84375 56 30.609375 56 \nz\n\" id=\"DejaVuSans-111\"/>\n     <path d=\"M 8.5 21.578125 \nL 8.5 54.6875 \nL 17.484375 54.6875 \nL 17.484375 21.921875 \nQ 17.484375 14.15625 20.5 10.265625 \nQ 23.53125 6.390625 29.59375 6.390625 \nQ 36.859375 6.390625 41.078125 11.03125 \nQ 45.3125 15.671875 45.3125 23.6875 \nL 45.3125 54.6875 \nL 54.296875 54.6875 \nL 54.296875 0 \nL 45.3125 0 \nL 45.3125 8.40625 \nQ 42.046875 3.421875 37.71875 1 \nQ 33.40625 -1.421875 27.6875 -1.421875 \nQ 18.265625 -1.421875 13.375 4.4375 \nQ 8.5 10.296875 8.5 21.578125 \nz\nM 31.109375 56 \nz\n\" id=\"DejaVuSans-117\"/>\n     <path d=\"M 56.203125 29.59375 \nL 56.203125 25.203125 \nL 14.890625 25.203125 \nQ 15.484375 15.921875 20.484375 11.0625 \nQ 25.484375 6.203125 34.421875 6.203125 \nQ 39.59375 6.203125 44.453125 7.46875 \nQ 49.3125 8.734375 54.109375 11.28125 \nL 54.109375 2.78125 \nQ 49.265625 0.734375 44.1875 -0.34375 \nQ 39.109375 -1.421875 33.890625 -1.421875 \nQ 20.796875 -1.421875 13.15625 6.1875 \nQ 5.515625 13.8125 5.515625 26.8125 \nQ 5.515625 40.234375 12.765625 48.109375 \nQ 20.015625 56 32.328125 56 \nQ 43.359375 56 49.78125 48.890625 \nQ 56.203125 41.796875 56.203125 29.59375 \nz\nM 47.21875 32.234375 \nQ 47.125 39.59375 43.09375 43.984375 \nQ 39.0625 48.390625 32.421875 48.390625 \nQ 24.90625 48.390625 20.390625 44.140625 \nQ 15.875 39.890625 15.1875 32.171875 \nz\n\" id=\"DejaVuSans-101\"/>\n    </defs>\n    <g transform=\"translate(96.513992 16.318125)scale(0.12 -0.12)\">\n     <use xlink:href=\"#DejaVuSans-116\"/>\n     <use x=\"39.208984\" xlink:href=\"#DejaVuSans-114\"/>\n     <use x=\"80.291016\" xlink:href=\"#DejaVuSans-111\"/>\n     <use x=\"141.472656\" xlink:href=\"#DejaVuSans-117\"/>\n     <use x=\"204.851562\" xlink:href=\"#DejaVuSans-115\"/>\n     <use x=\"256.951172\" xlink:href=\"#DejaVuSans-101\"/>\n     <use x=\"318.474609\" xlink:href=\"#DejaVuSans-114\"/>\n    </g>\n    <!-- trouser -->\n    <g transform=\"translate(96.513992 29.7555)scale(0.12 -0.12)\">\n     <use xlink:href=\"#DejaVuSans-116\"/>\n     <use x=\"39.208984\" xlink:href=\"#DejaVuSans-114\"/>\n     <use x=\"80.291016\" xlink:href=\"#DejaVuSans-111\"/>\n     <use x=\"141.472656\" xlink:href=\"#DejaVuSans-117\"/>\n     <use x=\"204.851562\" xlink:href=\"#DejaVuSans-115\"/>\n     <use x=\"256.951172\" xlink:href=\"#DejaVuSans-101\"/>\n     <use x=\"318.474609\" xlink:href=\"#DejaVuSans-114\"/>\n    </g>\n   </g>\n  </g>\n  <g id=\"axes_3\">\n   <g id=\"patch_12\">\n    <path d=\"M 162.307547 98.925311 \nL 225.477358 98.925311 \nL 225.477358 35.7555 \nL 162.307547 35.7555 \nz\n\" style=\"fill:#ffffff;\"/>\n   </g>\n   <g clip-path=\"url(#p54aac7df59)\">\n    <image height=\"64\" id=\"image5a72ee5d80\" transform=\"scale(1 -1)translate(0 -64)\" width=\"64\" x=\"162.307547\" xlink:href=\"data:image/png;base64,\niVBORw0KGgoAAAANSUhEUgAAAEAAAABACAYAAACqaXHeAAAABHNCSVQICAgIfAhkiAAAAwZJREFUeJztmk1v00AQhh/ny0njuhVtpZYvcaAceuGOuCBV4sIRid+BkPhlcIO/gMSBAwdO/QpN65amSRrbsTmMs6ZVCTRKs25334uTmbE9Gs3uvn41zqbzOsVglHQnoBuV1ttnAERebow8aYphMwHAWQgB8P2+iln2ugA88gIAnjRbyrdR3wFgvXoovmoTgNPkTMV86K4B8Pl4A4Av+/eUL2gtAFDfqQIwtyv5zG/HKsYNBpLbYAhAqTdQPieM5MeZ2NJQ8k/7+fuTzGd8BxhfAKeQm2CpDIBTrchf1xV7o65CnFoNgNSVZUK5rHypK/clcxITLsr9oZ/HDOYdefa0c79pqOhO4FIksrGl2QY3HGQb3MnJRI+rXbgCjPZ84zvAFkB3ArpR2X0vRMg9zA+DRiAEqLEva6/cEQLhDHIiwnCY2YR0jMgGABnhSLK1m0bZfdnaLhKM7wDjC+Bslt+kkJMO+IN4ZLYR6aCSx1wkIPFy/jHReSiE5fSB1Le3JkuqvJp/SzxebQPwfOkHAK/8r8q3UpIl007kfe2hfEtsRUsqph3PA3AQyTUIm8p3FDYAaHV9APaPJCY6dlVMLZC8bQcUkgrPEMZ3gC2A7gR0w/gC3EpJTLHUruRrJbExKOYxaBWh2cEqQhM98RbBFkB3ArphfAGuVRJLY4kfkQ4riRUQ2hWhFyvfAXjpfVO+vylC7dhXMVvRHWC8IrTdWRTfL/FZRegSFJMKzxDGd4AtgO4EdMP4AoxVhGI/U1s8ITv/qwituz8B2KjJdVJFyN2TY7C5LfaxilCY+5xe9h47JPVvFPMYzBShUl2IizMiYFYRmj4KrQglvd55u1WEpg9bAN0J6IbxBajsvRMiVDu+miKkJrLjTMK2Q1I3E9eqCHXvSn2792c7I9Q+k1wO+mKzM0JjYHwBivktMEMY3wG2ALoT0I1LFaG4mSlC3vkZoTkvn8NZ9TvA5DNCn/rLAHwMngJTmBGyitBkKOYpcIUZISoSm9aqymcVoSvA+AIUWhKzQ1IzwG9oFcWn5B4hiAAAAABJRU5ErkJggg==\" y=\"-34.925311\"/>\n   </g>\n   <g id=\"patch_13\">\n    <path d=\"M 162.307547 98.925311 \nL 162.307547 35.7555 \n\" style=\"fill:none;stroke:#000000;stroke-linecap:square;stroke-linejoin:miter;stroke-width:0.8;\"/>\n   </g>\n   <g id=\"patch_14\">\n    <path d=\"M 225.477358 98.925311 \nL 225.477358 35.7555 \n\" style=\"fill:none;stroke:#000000;stroke-linecap:square;stroke-linejoin:miter;stroke-width:0.8;\"/>\n   </g>\n   <g id=\"patch_15\">\n    <path d=\"M 162.307547 98.925311 \nL 225.477358 98.925311 \n\" style=\"fill:none;stroke:#000000;stroke-linecap:square;stroke-linejoin:miter;stroke-width:0.8;\"/>\n   </g>\n   <g id=\"patch_16\">\n    <path d=\"M 162.307547 35.7555 \nL 225.477358 35.7555 \n\" style=\"fill:none;stroke:#000000;stroke-linecap:square;stroke-linejoin:miter;stroke-width:0.8;\"/>\n   </g>\n   <g id=\"text_3\">\n    <!-- pullover -->\n    <defs>\n     <path d=\"M 18.109375 8.203125 \nL 18.109375 -20.796875 \nL 9.078125 -20.796875 \nL 9.078125 54.6875 \nL 18.109375 54.6875 \nL 18.109375 46.390625 \nQ 20.953125 51.265625 25.265625 53.625 \nQ 29.59375 56 35.59375 56 \nQ 45.5625 56 51.78125 48.09375 \nQ 58.015625 40.1875 58.015625 27.296875 \nQ 58.015625 14.40625 51.78125 6.484375 \nQ 45.5625 -1.421875 35.59375 -1.421875 \nQ 29.59375 -1.421875 25.265625 0.953125 \nQ 20.953125 3.328125 18.109375 8.203125 \nz\nM 48.6875 27.296875 \nQ 48.6875 37.203125 44.609375 42.84375 \nQ 40.53125 48.484375 33.40625 48.484375 \nQ 26.265625 48.484375 22.1875 42.84375 \nQ 18.109375 37.203125 18.109375 27.296875 \nQ 18.109375 17.390625 22.1875 11.75 \nQ 26.265625 6.109375 33.40625 6.109375 \nQ 40.53125 6.109375 44.609375 11.75 \nQ 48.6875 17.390625 48.6875 27.296875 \nz\n\" id=\"DejaVuSans-112\"/>\n     <path d=\"M 9.421875 75.984375 \nL 18.40625 75.984375 \nL 18.40625 0 \nL 9.421875 0 \nz\n\" id=\"DejaVuSans-108\"/>\n     <path d=\"M 2.984375 54.6875 \nL 12.5 54.6875 \nL 29.59375 8.796875 \nL 46.6875 54.6875 \nL 56.203125 54.6875 \nL 35.6875 0 \nL 23.484375 0 \nz\n\" id=\"DejaVuSans-118\"/>\n    </defs>\n    <g transform=\"translate(169.566203 16.318125)scale(0.12 -0.12)\">\n     <use xlink:href=\"#DejaVuSans-112\"/>\n     <use x=\"63.476562\" xlink:href=\"#DejaVuSans-117\"/>\n     <use x=\"126.855469\" xlink:href=\"#DejaVuSans-108\"/>\n     <use x=\"154.638672\" xlink:href=\"#DejaVuSans-108\"/>\n     <use x=\"182.421875\" xlink:href=\"#DejaVuSans-111\"/>\n     <use x=\"243.603516\" xlink:href=\"#DejaVuSans-118\"/>\n     <use x=\"302.783203\" xlink:href=\"#DejaVuSans-101\"/>\n     <use x=\"364.306641\" xlink:href=\"#DejaVuSans-114\"/>\n    </g>\n    <!-- pullover -->\n    <g transform=\"translate(169.566203 29.7555)scale(0.12 -0.12)\">\n     <use xlink:href=\"#DejaVuSans-112\"/>\n     <use x=\"63.476562\" xlink:href=\"#DejaVuSans-117\"/>\n     <use x=\"126.855469\" xlink:href=\"#DejaVuSans-108\"/>\n     <use x=\"154.638672\" xlink:href=\"#DejaVuSans-108\"/>\n     <use x=\"182.421875\" xlink:href=\"#DejaVuSans-111\"/>\n     <use x=\"243.603516\" xlink:href=\"#DejaVuSans-118\"/>\n     <use x=\"302.783203\" xlink:href=\"#DejaVuSans-101\"/>\n     <use x=\"364.306641\" xlink:href=\"#DejaVuSans-114\"/>\n    </g>\n   </g>\n  </g>\n  <g id=\"axes_4\">\n   <g id=\"patch_17\">\n    <path d=\"M 238.111321 98.925311 \nL 301.281132 98.925311 \nL 301.281132 35.7555 \nL 238.111321 35.7555 \nz\n\" style=\"fill:#ffffff;\"/>\n   </g>\n   <g clip-path=\"url(#pc0ed4eca9b)\">\n    <image height=\"64\" id=\"imagec87500a753\" transform=\"scale(1 -1)translate(0 -64)\" width=\"64\" x=\"238.111321\" xlink:href=\"data:image/png;base64,\niVBORw0KGgoAAAANSUhEUgAAAEAAAABACAYAAACqaXHeAAAABHNCSVQICAgIfAhkiAAAAsdJREFUeJztW1uO2kAQLM/Y5r08lmgj5Se5Qs4QKReIcpicIBfKMfKZK5CFINAqWWxsjPPRM7YJCFbLo8lO10/v9LShXdNI3aVZ7+uPjzkATJIbWEyTNgBgHHUAAA/LOgDgd1wrYuIoBACkUUCOzCv24OVk1ebaU3klBhs+r/p4Eb8GAGhNa2XW5DN73vZeYPbs5+Q5ffg6r3wJNlN0Ft4H71N+OOw00DdlleHNHQAgeU1VtrgLi61oSOcSD2m9HGb0/GBZxHTaEQCgEaYAgHaQFHutgOL6IcV0ghgA0PWjIqbvPwKQChACLvoTuEY4XwFCAHcC3BACuBPghhDAnQA3nCfAi0fvcgAYZ2WfPM6oL7/PqHe/T3vkT7tFzCSlHn4Skx09lns/5/RcMqMpMpxqAEB9Vk5j9Sn1X80J9fL18aLYUw/Up2OVGbsCAORpWmZe+Iw166oP62zPq5vvOhjxwuG9//ZlqxVeG4+do+1crSrjtFabM7edyyku34ix60CVJxJq+jtUK2PLvYZON2xNWVueclvTxDfw/wAAerqsoIEm362mSuopmhQHqjzvG0XV6XwF+J/ffgfwHEWoAeC8ipAyyo5SogidDc4TIJLYMS/0EiCKEHcC3BACuBPghhDAnQA3hADuBLjhPAFnUYRGM3ounZ9YEVpVFJ6UWl9RhI5EoQitdzTEXIpQy6fTtQrQUxQhawGgp6ia9ilCfd2k3LZf2y04T8Dxkljsk2NV4fICl6SsTObbn9kOSexfiCS2A1epCC1e0bksb2m9TxFqGkWoJYrQ8yCKEHcC3BACuBPghhDAnQA3hADuBLjhPAH/lyL01DtCiWmL88M9nvMV4DwBF5XEfK+c02u+lcJ4LkmJJGawVxH6FZOdx6T+XPqSlPzb3AVwlYrQqe4IdUOjBAUUK4rQDogixJ0AN4QA7gS44TwBfwHBDMHDUvrI3QAAAABJRU5ErkJggg==\" y=\"-34.925311\"/>\n   </g>\n   <g id=\"patch_18\">\n    <path d=\"M 238.111321 98.925311 \nL 238.111321 35.7555 \n\" style=\"fill:none;stroke:#000000;stroke-linecap:square;stroke-linejoin:miter;stroke-width:0.8;\"/>\n   </g>\n   <g id=\"patch_19\">\n    <path d=\"M 301.281132 98.925311 \nL 301.281132 35.7555 \n\" style=\"fill:none;stroke:#000000;stroke-linecap:square;stroke-linejoin:miter;stroke-width:0.8;\"/>\n   </g>\n   <g id=\"patch_20\">\n    <path d=\"M 238.111321 98.925311 \nL 301.281132 98.925311 \n\" style=\"fill:none;stroke:#000000;stroke-linecap:square;stroke-linejoin:miter;stroke-width:0.8;\"/>\n   </g>\n   <g id=\"patch_21\">\n    <path d=\"M 238.111321 35.7555 \nL 301.281132 35.7555 \n\" style=\"fill:none;stroke:#000000;stroke-linecap:square;stroke-linejoin:miter;stroke-width:0.8;\"/>\n   </g>\n   <g id=\"text_4\">\n    <!-- pullover -->\n    <g transform=\"translate(245.369976 16.318125)scale(0.12 -0.12)\">\n     <use xlink:href=\"#DejaVuSans-112\"/>\n     <use x=\"63.476562\" xlink:href=\"#DejaVuSans-117\"/>\n     <use x=\"126.855469\" xlink:href=\"#DejaVuSans-108\"/>\n     <use x=\"154.638672\" xlink:href=\"#DejaVuSans-108\"/>\n     <use x=\"182.421875\" xlink:href=\"#DejaVuSans-111\"/>\n     <use x=\"243.603516\" xlink:href=\"#DejaVuSans-118\"/>\n     <use x=\"302.783203\" xlink:href=\"#DejaVuSans-101\"/>\n     <use x=\"364.306641\" xlink:href=\"#DejaVuSans-114\"/>\n    </g>\n    <!-- pullover -->\n    <g transform=\"translate(245.369976 29.7555)scale(0.12 -0.12)\">\n     <use xlink:href=\"#DejaVuSans-112\"/>\n     <use x=\"63.476562\" xlink:href=\"#DejaVuSans-117\"/>\n     <use x=\"126.855469\" xlink:href=\"#DejaVuSans-108\"/>\n     <use x=\"154.638672\" xlink:href=\"#DejaVuSans-108\"/>\n     <use x=\"182.421875\" xlink:href=\"#DejaVuSans-111\"/>\n     <use x=\"243.603516\" xlink:href=\"#DejaVuSans-118\"/>\n     <use x=\"302.783203\" xlink:href=\"#DejaVuSans-101\"/>\n     <use x=\"364.306641\" xlink:href=\"#DejaVuSans-114\"/>\n    </g>\n   </g>\n  </g>\n  <g id=\"axes_5\">\n   <g id=\"patch_22\">\n    <path d=\"M 313.915094 98.925311 \nL 377.084906 98.925311 \nL 377.084906 35.7555 \nL 313.915094 35.7555 \nz\n\" style=\"fill:#ffffff;\"/>\n   </g>\n   <g clip-path=\"url(#pe67deba084)\">\n    <image height=\"64\" id=\"imagef5d191ad26\" transform=\"scale(1 -1)translate(0 -64)\" width=\"64\" x=\"313.915094\" xlink:href=\"data:image/png;base64,\niVBORw0KGgoAAAANSUhEUgAAAEAAAABACAYAAACqaXHeAAAABHNCSVQICAgIfAhkiAAAAbZJREFUeJztmM9KAlEYxX8z+QcVplIxCaICqV27Fu17hGjZ2/QiLXuVdu2KICMoE7UaSHHUscWlEaqFxcjH9X6/zYfOFY5nzlzuHG/y3JgCXIRVvrhsHQJw87QBgH9fACC4S5YQPEQA5K+bAEw6XWzElxYgjXfsnUylRfyHlWoFgOHBDgDhdi65FjbMjHcHAOxvvgBwWr9K1pwFHUAToAZY+wikhfMJUAOkBUijBkgLkEYNkBYgjfMGZJrnRwBkQy/5stA2Z6PM0MxiawRArjdI1vjdEIC42zOz31+82gXgfAKsPQr7xaKZlTIAcSVIrkVl01/061kAxnmT7kFtlvJRYP62JkAbIcdx3gBrN0GtxFLC2gSkhfMJUAOkBUijBkgLkEYNkBYgjfMG/NoI5d7N2ajUjs3nt7GZ2ggtH9YehedphKK1DAAfNXOfo1VthH7gvAFaiUkLkMbaTVAboZSwNgFp4XwC1ABpAdKoAdICpFEDpAVI47wB2ghJC5DGeQOsfRfQSiwl/tQIlR5nP1y/1UZoKbB2D/jeCL3uzRqhjy0ztRGaA2sTkBbOJ0ANkBYgjfMGfAL2Tcb2loLnagAAAABJRU5ErkJggg==\" y=\"-34.925311\"/>\n   </g>\n   <g id=\"patch_23\">\n    <path d=\"M 313.915094 98.925311 \nL 313.915094 35.7555 \n\" style=\"fill:none;stroke:#000000;stroke-linecap:square;stroke-linejoin:miter;stroke-width:0.8;\"/>\n   </g>\n   <g id=\"patch_24\">\n    <path d=\"M 377.084906 98.925311 \nL 377.084906 35.7555 \n\" style=\"fill:none;stroke:#000000;stroke-linecap:square;stroke-linejoin:miter;stroke-width:0.8;\"/>\n   </g>\n   <g id=\"patch_25\">\n    <path d=\"M 313.915094 98.925311 \nL 377.084906 98.925311 \n\" style=\"fill:none;stroke:#000000;stroke-linecap:square;stroke-linejoin:miter;stroke-width:0.8;\"/>\n   </g>\n   <g id=\"patch_26\">\n    <path d=\"M 313.915094 35.7555 \nL 377.084906 35.7555 \n\" style=\"fill:none;stroke:#000000;stroke-linecap:square;stroke-linejoin:miter;stroke-width:0.8;\"/>\n   </g>\n   <g id=\"text_5\">\n    <!-- dress -->\n    <defs>\n     <path d=\"M 45.40625 46.390625 \nL 45.40625 75.984375 \nL 54.390625 75.984375 \nL 54.390625 0 \nL 45.40625 0 \nL 45.40625 8.203125 \nQ 42.578125 3.328125 38.25 0.953125 \nQ 33.9375 -1.421875 27.875 -1.421875 \nQ 17.96875 -1.421875 11.734375 6.484375 \nQ 5.515625 14.40625 5.515625 27.296875 \nQ 5.515625 40.1875 11.734375 48.09375 \nQ 17.96875 56 27.875 56 \nQ 33.9375 56 38.25 53.625 \nQ 42.578125 51.265625 45.40625 46.390625 \nz\nM 14.796875 27.296875 \nQ 14.796875 17.390625 18.875 11.75 \nQ 22.953125 6.109375 30.078125 6.109375 \nQ 37.203125 6.109375 41.296875 11.75 \nQ 45.40625 17.390625 45.40625 27.296875 \nQ 45.40625 37.203125 41.296875 42.84375 \nQ 37.203125 48.484375 30.078125 48.484375 \nQ 22.953125 48.484375 18.875 42.84375 \nQ 14.796875 37.203125 14.796875 27.296875 \nz\n\" id=\"DejaVuSans-100\"/>\n    </defs>\n    <g transform=\"translate(329.283125 16.318125)scale(0.12 -0.12)\">\n     <use xlink:href=\"#DejaVuSans-100\"/>\n     <use x=\"63.476562\" xlink:href=\"#DejaVuSans-114\"/>\n     <use x=\"104.558594\" xlink:href=\"#DejaVuSans-101\"/>\n     <use x=\"166.082031\" xlink:href=\"#DejaVuSans-115\"/>\n     <use x=\"218.181641\" xlink:href=\"#DejaVuSans-115\"/>\n    </g>\n    <!-- dress -->\n    <g transform=\"translate(329.283125 29.7555)scale(0.12 -0.12)\">\n     <use xlink:href=\"#DejaVuSans-100\"/>\n     <use x=\"63.476562\" xlink:href=\"#DejaVuSans-114\"/>\n     <use x=\"104.558594\" xlink:href=\"#DejaVuSans-101\"/>\n     <use x=\"166.082031\" xlink:href=\"#DejaVuSans-115\"/>\n     <use x=\"218.181641\" xlink:href=\"#DejaVuSans-115\"/>\n    </g>\n   </g>\n  </g>\n  <g id=\"axes_6\">\n   <g id=\"patch_27\">\n    <path d=\"M 389.718868 98.925311 \nL 452.888679 98.925311 \nL 452.888679 35.7555 \nL 389.718868 35.7555 \nz\n\" style=\"fill:#ffffff;\"/>\n   </g>\n   <g clip-path=\"url(#p8f94dd9caf)\">\n    <image height=\"64\" id=\"imagec368fb7c74\" transform=\"scale(1 -1)translate(0 -64)\" width=\"64\" x=\"389.718868\" xlink:href=\"data:image/png;base64,\niVBORw0KGgoAAAANSUhEUgAAAEAAAABACAYAAACqaXHeAAAABHNCSVQICAgIfAhkiAAAAqdJREFUeJztWruS0zAUPXb8WCd2iNmWx1BQ0cBQwAfwCfwan7P9Ngw0VBQMUO4w2Y0dO35TXFmKd3Yg63Eir6XTSNZrrq6vpKMzMj4YHxsoDFO2AbJh4eIJAOD3esUL0z8eVa4tAICzMeg7FR3tiALHTtq0FoPGFfW7yQEAZrwDABjJTgxQsfZlCQBoKtEfWUZlvI7Ga4pStKmrgyf5LygfAco7wBhqEzTnc5F/HAIA6vMlAKBcnQEAstDmbbJgBgDIH9HyKnwxVrYik8qQQt47p7X3NLzmbV4urwAAb/yfAIDXZ7943VvX6dj2OaOl+HX3jJd9iZ+TrYdOcKoYLAIeKpSPAO0A2QbIhvX90zsAQOMJYuH6REQWXtZpvE1dns9iyhsp7eZmInzZEiY7ZgQqYeWJ2G6ciIiPvW1TQXJmMe3as/WWbIsorTcb3qbJurb1hfIRoLwDRnkMGi4tL3NJRMoIFgCAKlzwNpVPZKdYWCwV/zIPKF/ODZZSeeGLqZZ03dERYMk24C60G1x1RXQXbbqH9s+5t9L7QvkI0A6QbYBsKO8ALYkNMsoDxmQUoffeD173yvE6tn3Lqf9l+oKXaUWIYZRU+JRQPgK0A2QbIBvKO+AokhiXwhhx6iuJmRs2wHUEQEtiR8Eoj8HbihBWAQCgXgqC00cRKvf4UasOKR8BWhHq2W8y0A6QbYBsKO+AoyhCzg2RGisuAAyoCA1EfvahfARMRhHSb4R6YpRU+JRQPgK0A2QbIBvKO+BORcj2iMAEftppHMXiQl2kdKT1fSRlbynvRBX71o+kpGCUx2CfN0I5I1ZU1ipB+o3Qf6G8A7Qk1rPfZKAdINsA2biXImTHex2Tgd8IsTs71TEFSL8ROj60InToBKcK5R0wyrvAKaF8BPwFfD+wdUOtulYAAAAASUVORK5CYII=\" y=\"-34.925311\"/>\n   </g>\n   <g id=\"patch_28\">\n    <path d=\"M 389.718868 98.925311 \nL 389.718868 35.7555 \n\" style=\"fill:none;stroke:#000000;stroke-linecap:square;stroke-linejoin:miter;stroke-width:0.8;\"/>\n   </g>\n   <g id=\"patch_29\">\n    <path d=\"M 452.888679 98.925311 \nL 452.888679 35.7555 \n\" style=\"fill:none;stroke:#000000;stroke-linecap:square;stroke-linejoin:miter;stroke-width:0.8;\"/>\n   </g>\n   <g id=\"patch_30\">\n    <path d=\"M 389.718868 98.925311 \nL 452.888679 98.925311 \n\" style=\"fill:none;stroke:#000000;stroke-linecap:square;stroke-linejoin:miter;stroke-width:0.8;\"/>\n   </g>\n   <g id=\"patch_31\">\n    <path d=\"M 389.718868 35.7555 \nL 452.888679 35.7555 \n\" style=\"fill:none;stroke:#000000;stroke-linecap:square;stroke-linejoin:miter;stroke-width:0.8;\"/>\n   </g>\n   <g id=\"text_6\">\n    <!-- pullover -->\n    <g transform=\"translate(396.977524 16.318125)scale(0.12 -0.12)\">\n     <use xlink:href=\"#DejaVuSans-112\"/>\n     <use x=\"63.476562\" xlink:href=\"#DejaVuSans-117\"/>\n     <use x=\"126.855469\" xlink:href=\"#DejaVuSans-108\"/>\n     <use x=\"154.638672\" xlink:href=\"#DejaVuSans-108\"/>\n     <use x=\"182.421875\" xlink:href=\"#DejaVuSans-111\"/>\n     <use x=\"243.603516\" xlink:href=\"#DejaVuSans-118\"/>\n     <use x=\"302.783203\" xlink:href=\"#DejaVuSans-101\"/>\n     <use x=\"364.306641\" xlink:href=\"#DejaVuSans-114\"/>\n    </g>\n    <!-- shirt -->\n    <g transform=\"translate(407.890024 29.7555)scale(0.12 -0.12)\">\n     <use xlink:href=\"#DejaVuSans-115\"/>\n     <use x=\"52.099609\" xlink:href=\"#DejaVuSans-104\"/>\n     <use x=\"115.478516\" xlink:href=\"#DejaVuSans-105\"/>\n     <use x=\"143.261719\" xlink:href=\"#DejaVuSans-114\"/>\n     <use x=\"184.375\" xlink:href=\"#DejaVuSans-116\"/>\n    </g>\n   </g>\n  </g>\n  <g id=\"axes_7\">\n   <g id=\"patch_32\">\n    <path d=\"M 465.522642 98.925311 \nL 528.692453 98.925311 \nL 528.692453 35.7555 \nL 465.522642 35.7555 \nz\n\" style=\"fill:#ffffff;\"/>\n   </g>\n   <g clip-path=\"url(#pbe5a8feeef)\">\n    <image height=\"64\" id=\"image3096099da5\" transform=\"scale(1 -1)translate(0 -64)\" width=\"64\" x=\"465.522642\" xlink:href=\"data:image/png;base64,\niVBORw0KGgoAAAANSUhEUgAAAEAAAABACAYAAACqaXHeAAAABHNCSVQICAgIfAhkiAAAAJhJREFUeJzt0FEVABAAwEBkE0H/KsS4D7sEe5t7njs+tnSA1gAdoDVAB2gN0AFaA3SA1gAdoDVAB2gN0AFaA3SA1gAdoDVAB2gN0AFaA3SA1gAdoDVAB2gN0AFaA3SA1gAdoDVAB2gN0AFaA3SA1gAdoDVAB2gN0AFaA3SA1gAdoDVAB2gN0AFaA3SA1gAdoDVAB2gN0AHaA7fsAhjTSsd5AAAAAElFTkSuQmCC\" y=\"-34.925311\"/>\n   </g>\n   <g id=\"patch_33\">\n    <path d=\"M 465.522642 98.925311 \nL 465.522642 35.7555 \n\" style=\"fill:none;stroke:#000000;stroke-linecap:square;stroke-linejoin:miter;stroke-width:0.8;\"/>\n   </g>\n   <g id=\"patch_34\">\n    <path d=\"M 528.692453 98.925311 \nL 528.692453 35.7555 \n\" style=\"fill:none;stroke:#000000;stroke-linecap:square;stroke-linejoin:miter;stroke-width:0.8;\"/>\n   </g>\n   <g id=\"patch_35\">\n    <path d=\"M 465.522642 98.925311 \nL 528.692453 98.925311 \n\" style=\"fill:none;stroke:#000000;stroke-linecap:square;stroke-linejoin:miter;stroke-width:0.8;\"/>\n   </g>\n   <g id=\"patch_36\">\n    <path d=\"M 465.522642 35.7555 \nL 528.692453 35.7555 \n\" style=\"fill:none;stroke:#000000;stroke-linecap:square;stroke-linejoin:miter;stroke-width:0.8;\"/>\n   </g>\n   <g id=\"text_7\">\n    <!-- bag -->\n    <defs>\n     <path d=\"M 48.6875 27.296875 \nQ 48.6875 37.203125 44.609375 42.84375 \nQ 40.53125 48.484375 33.40625 48.484375 \nQ 26.265625 48.484375 22.1875 42.84375 \nQ 18.109375 37.203125 18.109375 27.296875 \nQ 18.109375 17.390625 22.1875 11.75 \nQ 26.265625 6.109375 33.40625 6.109375 \nQ 40.53125 6.109375 44.609375 11.75 \nQ 48.6875 17.390625 48.6875 27.296875 \nz\nM 18.109375 46.390625 \nQ 20.953125 51.265625 25.265625 53.625 \nQ 29.59375 56 35.59375 56 \nQ 45.5625 56 51.78125 48.09375 \nQ 58.015625 40.1875 58.015625 27.296875 \nQ 58.015625 14.40625 51.78125 6.484375 \nQ 45.5625 -1.421875 35.59375 -1.421875 \nQ 29.59375 -1.421875 25.265625 0.953125 \nQ 20.953125 3.328125 18.109375 8.203125 \nL 18.109375 0 \nL 9.078125 0 \nL 9.078125 75.984375 \nL 18.109375 75.984375 \nz\n\" id=\"DejaVuSans-98\"/>\n     <path d=\"M 34.28125 27.484375 \nQ 23.390625 27.484375 19.1875 25 \nQ 14.984375 22.515625 14.984375 16.5 \nQ 14.984375 11.71875 18.140625 8.90625 \nQ 21.296875 6.109375 26.703125 6.109375 \nQ 34.1875 6.109375 38.703125 11.40625 \nQ 43.21875 16.703125 43.21875 25.484375 \nL 43.21875 27.484375 \nz\nM 52.203125 31.203125 \nL 52.203125 0 \nL 43.21875 0 \nL 43.21875 8.296875 \nQ 40.140625 3.328125 35.546875 0.953125 \nQ 30.953125 -1.421875 24.3125 -1.421875 \nQ 15.921875 -1.421875 10.953125 3.296875 \nQ 6 8.015625 6 15.921875 \nQ 6 25.140625 12.171875 29.828125 \nQ 18.359375 34.515625 30.609375 34.515625 \nL 43.21875 34.515625 \nL 43.21875 35.40625 \nQ 43.21875 41.609375 39.140625 45 \nQ 35.0625 48.390625 27.6875 48.390625 \nQ 23 48.390625 18.546875 47.265625 \nQ 14.109375 46.140625 10.015625 43.890625 \nL 10.015625 52.203125 \nQ 14.9375 54.109375 19.578125 55.046875 \nQ 24.21875 56 28.609375 56 \nQ 40.484375 56 46.34375 49.84375 \nQ 52.203125 43.703125 52.203125 31.203125 \nz\n\" id=\"DejaVuSans-97\"/>\n     <path d=\"M 45.40625 27.984375 \nQ 45.40625 37.75 41.375 43.109375 \nQ 37.359375 48.484375 30.078125 48.484375 \nQ 22.859375 48.484375 18.828125 43.109375 \nQ 14.796875 37.75 14.796875 27.984375 \nQ 14.796875 18.265625 18.828125 12.890625 \nQ 22.859375 7.515625 30.078125 7.515625 \nQ 37.359375 7.515625 41.375 12.890625 \nQ 45.40625 18.265625 45.40625 27.984375 \nz\nM 54.390625 6.78125 \nQ 54.390625 -7.171875 48.1875 -13.984375 \nQ 42 -20.796875 29.203125 -20.796875 \nQ 24.46875 -20.796875 20.265625 -20.09375 \nQ 16.0625 -19.390625 12.109375 -17.921875 \nL 12.109375 -9.1875 \nQ 16.0625 -11.328125 19.921875 -12.34375 \nQ 23.78125 -13.375 27.78125 -13.375 \nQ 36.625 -13.375 41.015625 -8.765625 \nQ 45.40625 -4.15625 45.40625 5.171875 \nL 45.40625 9.625 \nQ 42.625 4.78125 38.28125 2.390625 \nQ 33.9375 0 27.875 0 \nQ 17.828125 0 11.671875 7.65625 \nQ 5.515625 15.328125 5.515625 27.984375 \nQ 5.515625 40.671875 11.671875 48.328125 \nQ 17.828125 56 27.875 56 \nQ 33.9375 56 38.28125 53.609375 \nQ 42.625 51.21875 45.40625 46.390625 \nL 45.40625 54.6875 \nL 54.390625 54.6875 \nz\n\" id=\"DejaVuSans-103\"/>\n    </defs>\n    <g transform=\"translate(485.812547 16.318125)scale(0.12 -0.12)\">\n     <use xlink:href=\"#DejaVuSans-98\"/>\n     <use x=\"63.476562\" xlink:href=\"#DejaVuSans-97\"/>\n     <use x=\"124.755859\" xlink:href=\"#DejaVuSans-103\"/>\n    </g>\n    <!-- bag -->\n    <g transform=\"translate(485.812547 29.7555)scale(0.12 -0.12)\">\n     <use xlink:href=\"#DejaVuSans-98\"/>\n     <use x=\"63.476562\" xlink:href=\"#DejaVuSans-97\"/>\n     <use x=\"124.755859\" xlink:href=\"#DejaVuSans-103\"/>\n    </g>\n   </g>\n  </g>\n  <g id=\"axes_8\">\n   <g id=\"patch_37\">\n    <path d=\"M 541.326415 98.925311 \nL 604.496226 98.925311 \nL 604.496226 35.7555 \nL 541.326415 35.7555 \nz\n\" style=\"fill:#ffffff;\"/>\n   </g>\n   <g clip-path=\"url(#pe41df28b70)\">\n    <image height=\"64\" id=\"image889f5eea89\" transform=\"scale(1 -1)translate(0 -64)\" width=\"64\" x=\"541.326415\" xlink:href=\"data:image/png;base64,\niVBORw0KGgoAAAANSUhEUgAAAEAAAABACAYAAACqaXHeAAAABHNCSVQICAgIfAhkiAAAAmVJREFUeJztm8tu00AUhj/Hk6RJEV1UpSKCXljCA/QFKiGxRkI8AQ+AeErERQKJDRJsCqKkTtqkJG6IzWLimap1hSlOTuqZb5PJ+Gh89PuP7Tk6CR5vvEgBkt0OGYOdNgDDTgjAr04KQNIZm5idu0cA7K1/BaAdnpljb/v3AfjSWweg370FgOrWTUwzCgBY6eq1V39MzbFGX68VxnouiCf6czwxMUGsY9JxrCdGNrfp8FQPErvmVdT+GlFxgv3wWVrKSgXUXkacd4DzAqibat2ycN4BXgDpBKTxAkgnII2iFl6aDMLLcxdJpwWeHv/7hMnJrRD/cF7nHeC8AOrbyz0A6kO7JWic6HHzONHfZ7szdWJ3XGE0ACDp6l1hMrbHSqPsl7Scn5TzDgj2g6fl7AYLEG7eMeOzh/cA6D9oAjDYtXG/t7WbHm19B+DJxgcAnt/+bGLWai0A3szqAq9HdoGPp3rtT8ebABxEawDEvRUTUz9SgHcAgXRFqHWo127/LK8ilMzG6cTmdBXOO8B5AexNcAFvXcuI8w5QZnTDr+R1cd4BXgDpBKTxAkgnII3zAsynJLaAfXxZ5/QOOHilK0JZFej8WLwilDGPl7SZq5x3gFsVoahlYuqRdwDgBVhQSSxaBUAdNkxM2SWxNGuMwpbEfJNUAfJvgnN88Vg2nHeAyp2tyNUtgvMO8AJIJyCNF0A6AWmcFyC3IpRxsTJUqDHqPL5Javkp1iM00JsQ1RuZmJrvEaoGzgtQmZLY+/GWOfZuuA34JqlCVKYi5P82d018j5B0AtL4HiHpBKTxAkgnII3zAvwBmntj2tcvcBkAAAAASUVORK5CYII=\" y=\"-34.925311\"/>\n   </g>\n   <g id=\"patch_38\">\n    <path d=\"M 541.326415 98.925311 \nL 541.326415 35.7555 \n\" style=\"fill:none;stroke:#000000;stroke-linecap:square;stroke-linejoin:miter;stroke-width:0.8;\"/>\n   </g>\n   <g id=\"patch_39\">\n    <path d=\"M 604.496226 98.925311 \nL 604.496226 35.7555 \n\" style=\"fill:none;stroke:#000000;stroke-linecap:square;stroke-linejoin:miter;stroke-width:0.8;\"/>\n   </g>\n   <g id=\"patch_40\">\n    <path d=\"M 541.326415 98.925311 \nL 604.496226 98.925311 \n\" style=\"fill:none;stroke:#000000;stroke-linecap:square;stroke-linejoin:miter;stroke-width:0.8;\"/>\n   </g>\n   <g id=\"patch_41\">\n    <path d=\"M 541.326415 35.7555 \nL 604.496226 35.7555 \n\" style=\"fill:none;stroke:#000000;stroke-linecap:square;stroke-linejoin:miter;stroke-width:0.8;\"/>\n   </g>\n   <g id=\"text_8\">\n    <!-- shirt -->\n    <g transform=\"translate(559.497571 16.318125)scale(0.12 -0.12)\">\n     <use xlink:href=\"#DejaVuSans-115\"/>\n     <use x=\"52.099609\" xlink:href=\"#DejaVuSans-104\"/>\n     <use x=\"115.478516\" xlink:href=\"#DejaVuSans-105\"/>\n     <use x=\"143.261719\" xlink:href=\"#DejaVuSans-114\"/>\n     <use x=\"184.375\" xlink:href=\"#DejaVuSans-116\"/>\n    </g>\n    <!-- shirt -->\n    <g transform=\"translate(559.497571 29.7555)scale(0.12 -0.12)\">\n     <use xlink:href=\"#DejaVuSans-115\"/>\n     <use x=\"52.099609\" xlink:href=\"#DejaVuSans-104\"/>\n     <use x=\"115.478516\" xlink:href=\"#DejaVuSans-105\"/>\n     <use x=\"143.261719\" xlink:href=\"#DejaVuSans-114\"/>\n     <use x=\"184.375\" xlink:href=\"#DejaVuSans-116\"/>\n    </g>\n   </g>\n  </g>\n  <g id=\"axes_9\">\n   <g id=\"patch_42\">\n    <path d=\"M 617.130189 98.925311 \nL 680.3 98.925311 \nL 680.3 35.7555 \nL 617.130189 35.7555 \nz\n\" style=\"fill:#ffffff;\"/>\n   </g>\n   <g clip-path=\"url(#p87fdc01831)\">\n    <image height=\"64\" id=\"image31a7cd5da5\" transform=\"scale(1 -1)translate(0 -64)\" width=\"64\" x=\"617.130189\" xlink:href=\"data:image/png;base64,\niVBORw0KGgoAAAANSUhEUgAAAEAAAABACAYAAACqaXHeAAAABHNCSVQICAgIfAhkiAAAAJhJREFUeJzt0FEVABAAwEBkE0H/KsS4D7sEe5t7njs+tnSA1gAdoDVAB2gN0AFaA3SA1gAdoDVAB2gN0AFaA3SA1gAdoDVAB2gN0AFaA3SA1gAdoDVAB2gN0AFaA3SA1gAdoDVAB2gN0AFaA3SA1gAdoDVAB2gN0AFaA3SA1gAdoDVAB2gN0AFaA3SA1gAdoDVAB2gN0AHaA7fsAhjTSsd5AAAAAElFTkSuQmCC\" y=\"-34.925311\"/>\n   </g>\n   <g id=\"patch_43\">\n    <path d=\"M 617.130189 98.925311 \nL 617.130189 35.7555 \n\" style=\"fill:none;stroke:#000000;stroke-linecap:square;stroke-linejoin:miter;stroke-width:0.8;\"/>\n   </g>\n   <g id=\"patch_44\">\n    <path d=\"M 680.3 98.925311 \nL 680.3 35.7555 \n\" style=\"fill:none;stroke:#000000;stroke-linecap:square;stroke-linejoin:miter;stroke-width:0.8;\"/>\n   </g>\n   <g id=\"patch_45\">\n    <path d=\"M 617.130189 98.925311 \nL 680.3 98.925311 \n\" style=\"fill:none;stroke:#000000;stroke-linecap:square;stroke-linejoin:miter;stroke-width:0.8;\"/>\n   </g>\n   <g id=\"patch_46\">\n    <path d=\"M 617.130189 35.7555 \nL 680.3 35.7555 \n\" style=\"fill:none;stroke:#000000;stroke-linecap:square;stroke-linejoin:miter;stroke-width:0.8;\"/>\n   </g>\n   <g id=\"text_9\">\n    <!-- sandal -->\n    <defs>\n     <path d=\"M 54.890625 33.015625 \nL 54.890625 0 \nL 45.90625 0 \nL 45.90625 32.71875 \nQ 45.90625 40.484375 42.875 44.328125 \nQ 39.84375 48.1875 33.796875 48.1875 \nQ 26.515625 48.1875 22.3125 43.546875 \nQ 18.109375 38.921875 18.109375 30.90625 \nL 18.109375 0 \nL 9.078125 0 \nL 9.078125 54.6875 \nL 18.109375 54.6875 \nL 18.109375 46.1875 \nQ 21.34375 51.125 25.703125 53.5625 \nQ 30.078125 56 35.796875 56 \nQ 45.21875 56 50.046875 50.171875 \nQ 54.890625 44.34375 54.890625 33.015625 \nz\n\" id=\"DejaVuSans-110\"/>\n    </defs>\n    <g transform=\"translate(628.957282 16.318125)scale(0.12 -0.12)\">\n     <use xlink:href=\"#DejaVuSans-115\"/>\n     <use x=\"52.099609\" xlink:href=\"#DejaVuSans-97\"/>\n     <use x=\"113.378906\" xlink:href=\"#DejaVuSans-110\"/>\n     <use x=\"176.757812\" xlink:href=\"#DejaVuSans-100\"/>\n     <use x=\"240.234375\" xlink:href=\"#DejaVuSans-97\"/>\n     <use x=\"301.513672\" xlink:href=\"#DejaVuSans-108\"/>\n    </g>\n    <!-- sandal -->\n    <g transform=\"translate(628.957282 29.7555)scale(0.12 -0.12)\">\n     <use xlink:href=\"#DejaVuSans-115\"/>\n     <use x=\"52.099609\" xlink:href=\"#DejaVuSans-97\"/>\n     <use x=\"113.378906\" xlink:href=\"#DejaVuSans-110\"/>\n     <use x=\"176.757812\" xlink:href=\"#DejaVuSans-100\"/>\n     <use x=\"240.234375\" xlink:href=\"#DejaVuSans-97\"/>\n     <use x=\"301.513672\" xlink:href=\"#DejaVuSans-108\"/>\n    </g>\n   </g>\n  </g>\n </g>\n <defs>\n  <clipPath id=\"p47ea9f0373\">\n   <rect height=\"63.169811\" width=\"63.169811\" x=\"10.7\" y=\"35.7555\"/>\n  </clipPath>\n  <clipPath id=\"p611c8c0b13\">\n   <rect height=\"63.169811\" width=\"63.169811\" x=\"86.503774\" y=\"35.7555\"/>\n  </clipPath>\n  <clipPath id=\"p54aac7df59\">\n   <rect height=\"63.169811\" width=\"63.169811\" x=\"162.307547\" y=\"35.7555\"/>\n  </clipPath>\n  <clipPath id=\"pc0ed4eca9b\">\n   <rect height=\"63.169811\" width=\"63.169811\" x=\"238.111321\" y=\"35.7555\"/>\n  </clipPath>\n  <clipPath id=\"pe67deba084\">\n   <rect height=\"63.169811\" width=\"63.169811\" x=\"313.915094\" y=\"35.7555\"/>\n  </clipPath>\n  <clipPath id=\"p8f94dd9caf\">\n   <rect height=\"63.169811\" width=\"63.169811\" x=\"389.718868\" y=\"35.7555\"/>\n  </clipPath>\n  <clipPath id=\"pbe5a8feeef\">\n   <rect height=\"63.169811\" width=\"63.169811\" x=\"465.522642\" y=\"35.7555\"/>\n  </clipPath>\n  <clipPath id=\"pe41df28b70\">\n   <rect height=\"63.169811\" width=\"63.169811\" x=\"541.326415\" y=\"35.7555\"/>\n  </clipPath>\n  <clipPath id=\"p87fdc01831\">\n   <rect height=\"63.169811\" width=\"63.169811\" x=\"617.130189\" y=\"35.7555\"/>\n  </clipPath>\n </defs>\n</svg>\n"
          },
          "metadata": {
            "tags": []
          }
        }
      ]
    }
  ]
}