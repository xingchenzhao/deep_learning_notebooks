{
  "nbformat": 4,
  "nbformat_minor": 0,
  "metadata": {
    "colab": {
      "name": "DenseNet.ipynb",
      "provenance": [],
      "include_colab_link": true
    },
    "kernelspec": {
      "name": "python3",
      "display_name": "Python 3"
    },
    "accelerator": "GPU"
  },
  "cells": [
    {
      "cell_type": "markdown",
      "metadata": {
        "id": "view-in-github",
        "colab_type": "text"
      },
      "source": [
        "<a href=\"https://colab.research.google.com/github/xingchenzhao/study_deep_learning/blob/master/DenseNet.ipynb\" target=\"_parent\"><img src=\"https://colab.research.google.com/assets/colab-badge.svg\" alt=\"Open In Colab\"/></a>"
      ]
    },
    {
      "cell_type": "code",
      "metadata": {
        "id": "3ZKSgJ-kIlhA",
        "colab_type": "code",
        "colab": {}
      },
      "source": [
        "!pip install d2lzh  # installing d2l\n",
        "!pip install -U --pre mxnet-cu101mkl  # updating mxnet to at least v1.6"
      ],
      "execution_count": 0,
      "outputs": []
    },
    {
      "cell_type": "markdown",
      "metadata": {
        "id": "LzXhJiiOIr7Y",
        "colab_type": "text"
      },
      "source": [
        "![alt text](https://zh.d2l.ai/_images/densenet.svg)"
      ]
    },
    {
      "cell_type": "code",
      "metadata": {
        "id": "J4JhdTvWIuJW",
        "colab_type": "code",
        "colab": {}
      },
      "source": [
        "import d2lzh as d2l\n",
        "from mxnet import gluon, init, nd\n",
        "from mxnet.gluon import nn"
      ],
      "execution_count": 0,
      "outputs": []
    },
    {
      "cell_type": "code",
      "metadata": {
        "id": "SX_tDl7AIzkP",
        "colab_type": "code",
        "colab": {}
      },
      "source": [
        "def conv_block(num_channels):\n",
        "  blk = nn.Sequential()\n",
        "  blk.add(nn.BatchNorm(), nn.Activation('relu'),\n",
        "          nn.Conv2D(num_channels, kernel_size=3, padding=1))\n",
        "  return blk"
      ],
      "execution_count": 0,
      "outputs": []
    },
    {
      "cell_type": "code",
      "metadata": {
        "id": "T2dSJhLzJiS_",
        "colab_type": "code",
        "colab": {}
      },
      "source": [
        "class DenseBlock(nn.Block):\n",
        "  def __init__(self, num_convs, num_channels, **kwargs):\n",
        "    super(DenseBlock, self).__init__(**kwargs)\n",
        "    self.net = nn.Sequential()\n",
        "    for _ in range(num_convs):\n",
        "      self.net.add(conv_block(num_channels))\n",
        "\n",
        "  def forward(self, X):\n",
        "    for blk in self.net:\n",
        "      Y = blk(X)\n",
        "      X = nd.concat(X, Y, dim=1)\n",
        "    return X"
      ],
      "execution_count": 0,
      "outputs": []
    },
    {
      "cell_type": "code",
      "metadata": {
        "id": "y_ZfIC3VK7pZ",
        "colab_type": "code",
        "colab": {
          "base_uri": "https://localhost:8080/",
          "height": 34
        },
        "outputId": "089e7324-7a72-425f-b014-aaf28f6bdb60"
      },
      "source": [
        "blk = DenseBlock(2, 10)\n",
        "blk.initialize()\n",
        "X = nd.random.uniform(shape=(4, 3, 8, 8))\n",
        "Y = blk(X)\n",
        "Y.shape"
      ],
      "execution_count": 5,
      "outputs": [
        {
          "output_type": "execute_result",
          "data": {
            "text/plain": [
              "(4, 23, 8, 8)"
            ]
          },
          "metadata": {
            "tags": []
          },
          "execution_count": 5
        }
      ]
    },
    {
      "cell_type": "code",
      "metadata": {
        "id": "Pi_LugdELdq1",
        "colab_type": "code",
        "colab": {}
      },
      "source": [
        "def transition_block(num_channels):\n",
        "  blk = nn.Sequential()\n",
        "  blk.add(nn.BatchNorm(), nn.Activation('relu'),\n",
        "          nn.Conv2D(num_channels, kernel_size=1),\n",
        "          nn.AvgPool2D(pool_size=2, strides=2))\n",
        "  return blk"
      ],
      "execution_count": 0,
      "outputs": []
    },
    {
      "cell_type": "code",
      "metadata": {
        "id": "ZHi89uSZMDQx",
        "colab_type": "code",
        "colab": {
          "base_uri": "https://localhost:8080/",
          "height": 34
        },
        "outputId": "96d4fb82-ab13-4aed-f526-ee7f4422c547"
      },
      "source": [
        "blk = transition_block(10)\n",
        "blk.initialize()\n",
        "blk(Y).shape"
      ],
      "execution_count": 7,
      "outputs": [
        {
          "output_type": "execute_result",
          "data": {
            "text/plain": [
              "(4, 10, 4, 4)"
            ]
          },
          "metadata": {
            "tags": []
          },
          "execution_count": 7
        }
      ]
    },
    {
      "cell_type": "code",
      "metadata": {
        "id": "LUUZeEAvMOur",
        "colab_type": "code",
        "colab": {}
      },
      "source": [
        "net = nn.Sequential()\n",
        "net.add(nn.Conv2D(64, kernel_size=7, strides=2, padding=3),\n",
        "        nn.BatchNorm(), nn.Activation('relu'),\n",
        "        nn.MaxPool2D(pool_size=3, strides=2, padding=1))"
      ],
      "execution_count": 0,
      "outputs": []
    },
    {
      "cell_type": "code",
      "metadata": {
        "id": "co8FwCb8MrJH",
        "colab_type": "code",
        "colab": {}
      },
      "source": [
        "num_channels, growth_rate = 64, 32\n",
        "num_convs_in_dense_blocks = [6, 12, 24, 16]\n",
        "\n",
        "for i, num_convs in enumerate(num_convs_in_dense_blocks):\n",
        "  net.add(DenseBlock(num_convs, growth_rate))\n",
        "  num_channels += num_convs*growth_rate\n",
        "\n",
        "  if i != len(num_convs_in_dense_blocks) - 1:\n",
        "    num_channels //= 2\n",
        "    net.add(transition_block(num_channels))"
      ],
      "execution_count": 0,
      "outputs": []
    },
    {
      "cell_type": "code",
      "metadata": {
        "id": "oN5wfoyVNRNf",
        "colab_type": "code",
        "colab": {}
      },
      "source": [
        "net.add(nn.BatchNorm(), nn.Activation('relu'), nn.GlobalAvgPool2D(), nn.Dense(10))"
      ],
      "execution_count": 0,
      "outputs": []
    },
    {
      "cell_type": "code",
      "metadata": {
        "id": "cZ6bZBG8RTUE",
        "colab_type": "code",
        "colab": {
          "base_uri": "https://localhost:8080/",
          "height": 374
        },
        "outputId": "687c16cd-3057-411c-d63c-db3c11f24d19"
      },
      "source": [
        "lr, num_epochs, batch_size, ctx = 0.1, 20, 256, d2l.try_gpu()\n",
        "net.initialize(ctx=ctx, init=init.Xavier())\n",
        "trainer = gluon.Trainer(net.collect_params(), 'sgd', {'learning_rate':lr})\n",
        "train_iter, test_iter = d2l.load_data_fashion_mnist(batch_size, resize=96)\n",
        "d2l.train_ch5(net, train_iter, test_iter, batch_size, trainer, ctx, num_epochs)"
      ],
      "execution_count": 11,
      "outputs": [
        {
          "output_type": "stream",
          "text": [
            "training on gpu(0)\n",
            "epoch 1, loss 0.4875, train acc 0.822, test acc 0.876, time 85.9 sec\n",
            "epoch 2, loss 0.2797, train acc 0.895, test acc 0.874, time 72.1 sec\n",
            "epoch 3, loss 0.2256, train acc 0.916, test acc 0.919, time 72.1 sec\n",
            "epoch 4, loss 0.1965, train acc 0.928, test acc 0.922, time 72.0 sec\n",
            "epoch 5, loss 0.1716, train acc 0.937, test acc 0.920, time 71.9 sec\n",
            "epoch 6, loss 0.1516, train acc 0.945, test acc 0.928, time 72.0 sec\n",
            "epoch 7, loss 0.1310, train acc 0.952, test acc 0.906, time 72.0 sec\n",
            "epoch 8, loss 0.1151, train acc 0.958, test acc 0.927, time 72.2 sec\n",
            "epoch 9, loss 0.1018, train acc 0.963, test acc 0.923, time 72.0 sec\n",
            "epoch 10, loss 0.0878, train acc 0.968, test acc 0.915, time 72.0 sec\n",
            "epoch 11, loss 0.0750, train acc 0.972, test acc 0.930, time 72.3 sec\n",
            "epoch 12, loss 0.0598, train acc 0.979, test acc 0.915, time 72.2 sec\n",
            "epoch 13, loss 0.0517, train acc 0.982, test acc 0.846, time 72.3 sec\n",
            "epoch 14, loss 0.0453, train acc 0.984, test acc 0.934, time 71.9 sec\n",
            "epoch 15, loss 0.0311, train acc 0.989, test acc 0.932, time 72.1 sec\n",
            "epoch 16, loss 0.0368, train acc 0.988, test acc 0.924, time 72.0 sec\n",
            "epoch 17, loss 0.0303, train acc 0.990, test acc 0.912, time 72.1 sec\n",
            "epoch 18, loss 0.0304, train acc 0.989, test acc 0.930, time 72.3 sec\n",
            "epoch 19, loss 0.0176, train acc 0.994, test acc 0.920, time 72.0 sec\n",
            "epoch 20, loss 0.0078, train acc 0.998, test acc 0.941, time 72.2 sec\n"
          ],
          "name": "stdout"
        }
      ]
    },
    {
      "cell_type": "code",
      "metadata": {
        "id": "MDxFEooHjdkl",
        "colab_type": "code",
        "colab": {
          "base_uri": "https://localhost:8080/",
          "height": 167
        },
        "outputId": "aa4f0f82-5c0b-4708-cf96-6527bd1df2f7"
      },
      "source": [
        "for X, y in test_iter:\n",
        "    break\n",
        "\n",
        "true_labels = d2l.get_fashion_mnist_labels(y.asnumpy())\n",
        "pred_labels = d2l.get_fashion_mnist_labels(net(X.as_in_context(ctx)).argmax(axis=1).asnumpy())\n",
        "titles = [true + '\\n' + pred for true, pred in zip(true_labels, pred_labels)]\n",
        "\n",
        "d2l.show_fashion_mnist(X[0:9], titles[0:9])"
      ],
      "execution_count": 12,
      "outputs": [
        {
          "output_type": "display_data",
          "data": {
            "text/plain": [
              "<Figure size 864x864 with 9 Axes>"
            ],
            "image/svg+xml": "<?xml version=\"1.0\" encoding=\"utf-8\" standalone=\"no\"?>\n<!DOCTYPE svg PUBLIC \"-//W3C//DTD SVG 1.1//EN\"\n  \"http://www.w3.org/Graphics/SVG/1.1/DTD/svg11.dtd\">\n<!-- Created with matplotlib (https://matplotlib.org/) -->\n<svg height=\"109.625311pt\" version=\"1.1\" viewBox=\"0 0 687.5 109.625311\" width=\"687.5pt\" xmlns=\"http://www.w3.org/2000/svg\" xmlns:xlink=\"http://www.w3.org/1999/xlink\">\n <defs>\n  <style type=\"text/css\">\n*{stroke-linecap:butt;stroke-linejoin:round;}\n  </style>\n </defs>\n <g id=\"figure_1\">\n  <g id=\"patch_1\">\n   <path d=\"M 0 109.625311 \nL 687.5 109.625311 \nL 687.5 0 \nL 0 0 \nz\n\" style=\"fill:none;\"/>\n  </g>\n  <g id=\"axes_1\">\n   <g id=\"patch_2\">\n    <path d=\"M 10.7 98.925311 \nL 73.869811 98.925311 \nL 73.869811 35.7555 \nL 10.7 35.7555 \nz\n\" style=\"fill:#ffffff;\"/>\n   </g>\n   <g clip-path=\"url(#pf3eb4f313b)\">\n    <image height=\"64\" id=\"image1a717b8d45\" transform=\"scale(1 -1)translate(0 -64)\" width=\"64\" x=\"10.7\" xlink:href=\"data:image/png;base64,\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\" y=\"-34.925311\"/>\n   </g>\n   <g id=\"patch_3\">\n    <path d=\"M 10.7 98.925311 \nL 10.7 35.7555 \n\" style=\"fill:none;stroke:#000000;stroke-linecap:square;stroke-linejoin:miter;stroke-width:0.8;\"/>\n   </g>\n   <g id=\"patch_4\">\n    <path d=\"M 73.869811 98.925311 \nL 73.869811 35.7555 \n\" style=\"fill:none;stroke:#000000;stroke-linecap:square;stroke-linejoin:miter;stroke-width:0.8;\"/>\n   </g>\n   <g id=\"patch_5\">\n    <path d=\"M 10.7 98.925311 \nL 73.869811 98.925311 \n\" style=\"fill:none;stroke:#000000;stroke-linecap:square;stroke-linejoin:miter;stroke-width:0.8;\"/>\n   </g>\n   <g id=\"patch_6\">\n    <path d=\"M 10.7 35.7555 \nL 73.869811 35.7555 \n\" style=\"fill:none;stroke:#000000;stroke-linecap:square;stroke-linejoin:miter;stroke-width:0.8;\"/>\n   </g>\n   <g id=\"text_1\">\n    <!-- t-shirt -->\n    <defs>\n     <path d=\"M 18.3125 70.21875 \nL 18.3125 54.6875 \nL 36.8125 54.6875 \nL 36.8125 47.703125 \nL 18.3125 47.703125 \nL 18.3125 18.015625 \nQ 18.3125 11.328125 20.140625 9.421875 \nQ 21.96875 7.515625 27.59375 7.515625 \nL 36.8125 7.515625 \nL 36.8125 0 \nL 27.59375 0 \nQ 17.1875 0 13.234375 3.875 \nQ 9.28125 7.765625 9.28125 18.015625 \nL 9.28125 47.703125 \nL 2.6875 47.703125 \nL 2.6875 54.6875 \nL 9.28125 54.6875 \nL 9.28125 70.21875 \nz\n\" id=\"DejaVuSans-116\"/>\n     <path d=\"M 4.890625 31.390625 \nL 31.203125 31.390625 \nL 31.203125 23.390625 \nL 4.890625 23.390625 \nz\n\" id=\"DejaVuSans-45\"/>\n     <path d=\"M 44.28125 53.078125 \nL 44.28125 44.578125 \nQ 40.484375 46.53125 36.375 47.5 \nQ 32.28125 48.484375 27.875 48.484375 \nQ 21.1875 48.484375 17.84375 46.4375 \nQ 14.5 44.390625 14.5 40.28125 \nQ 14.5 37.15625 16.890625 35.375 \nQ 19.28125 33.59375 26.515625 31.984375 \nL 29.59375 31.296875 \nQ 39.15625 29.25 43.1875 25.515625 \nQ 47.21875 21.78125 47.21875 15.09375 \nQ 47.21875 7.46875 41.1875 3.015625 \nQ 35.15625 -1.421875 24.609375 -1.421875 \nQ 20.21875 -1.421875 15.453125 -0.5625 \nQ 10.6875 0.296875 5.421875 2 \nL 5.421875 11.28125 \nQ 10.40625 8.6875 15.234375 7.390625 \nQ 20.0625 6.109375 24.8125 6.109375 \nQ 31.15625 6.109375 34.5625 8.28125 \nQ 37.984375 10.453125 37.984375 14.40625 \nQ 37.984375 18.0625 35.515625 20.015625 \nQ 33.0625 21.96875 24.703125 23.78125 \nL 21.578125 24.515625 \nQ 13.234375 26.265625 9.515625 29.90625 \nQ 5.8125 33.546875 5.8125 39.890625 \nQ 5.8125 47.609375 11.28125 51.796875 \nQ 16.75 56 26.8125 56 \nQ 31.78125 56 36.171875 55.265625 \nQ 40.578125 54.546875 44.28125 53.078125 \nz\n\" id=\"DejaVuSans-115\"/>\n     <path d=\"M 54.890625 33.015625 \nL 54.890625 0 \nL 45.90625 0 \nL 45.90625 32.71875 \nQ 45.90625 40.484375 42.875 44.328125 \nQ 39.84375 48.1875 33.796875 48.1875 \nQ 26.515625 48.1875 22.3125 43.546875 \nQ 18.109375 38.921875 18.109375 30.90625 \nL 18.109375 0 \nL 9.078125 0 \nL 9.078125 75.984375 \nL 18.109375 75.984375 \nL 18.109375 46.1875 \nQ 21.34375 51.125 25.703125 53.5625 \nQ 30.078125 56 35.796875 56 \nQ 45.21875 56 50.046875 50.171875 \nQ 54.890625 44.34375 54.890625 33.015625 \nz\n\" id=\"DejaVuSans-104\"/>\n     <path d=\"M 9.421875 54.6875 \nL 18.40625 54.6875 \nL 18.40625 0 \nL 9.421875 0 \nz\nM 9.421875 75.984375 \nL 18.40625 75.984375 \nL 18.40625 64.59375 \nL 9.421875 64.59375 \nz\n\" id=\"DejaVuSans-105\"/>\n     <path d=\"M 41.109375 46.296875 \nQ 39.59375 47.171875 37.8125 47.578125 \nQ 36.03125 48 33.890625 48 \nQ 26.265625 48 22.1875 43.046875 \nQ 18.109375 38.09375 18.109375 28.8125 \nL 18.109375 0 \nL 9.078125 0 \nL 9.078125 54.6875 \nL 18.109375 54.6875 \nL 18.109375 46.1875 \nQ 20.953125 51.171875 25.484375 53.578125 \nQ 30.03125 56 36.53125 56 \nQ 37.453125 56 38.578125 55.875 \nQ 39.703125 55.765625 41.0625 55.515625 \nz\n\" id=\"DejaVuSans-114\"/>\n    </defs>\n    <g transform=\"translate(24.354281 16.318125)scale(0.12 -0.12)\">\n     <use xlink:href=\"#DejaVuSans-116\"/>\n     <use x=\"39.208984\" xlink:href=\"#DejaVuSans-45\"/>\n     <use x=\"75.292969\" xlink:href=\"#DejaVuSans-115\"/>\n     <use x=\"127.392578\" xlink:href=\"#DejaVuSans-104\"/>\n     <use x=\"190.771484\" xlink:href=\"#DejaVuSans-105\"/>\n     <use x=\"218.554688\" xlink:href=\"#DejaVuSans-114\"/>\n     <use x=\"259.667969\" xlink:href=\"#DejaVuSans-116\"/>\n    </g>\n    <!-- t-shirt -->\n    <g transform=\"translate(24.354281 29.7555)scale(0.12 -0.12)\">\n     <use xlink:href=\"#DejaVuSans-116\"/>\n     <use x=\"39.208984\" xlink:href=\"#DejaVuSans-45\"/>\n     <use x=\"75.292969\" xlink:href=\"#DejaVuSans-115\"/>\n     <use x=\"127.392578\" xlink:href=\"#DejaVuSans-104\"/>\n     <use x=\"190.771484\" xlink:href=\"#DejaVuSans-105\"/>\n     <use x=\"218.554688\" xlink:href=\"#DejaVuSans-114\"/>\n     <use x=\"259.667969\" xlink:href=\"#DejaVuSans-116\"/>\n    </g>\n   </g>\n  </g>\n  <g id=\"axes_2\">\n   <g id=\"patch_7\">\n    <path d=\"M 86.503774 98.925311 \nL 149.673585 98.925311 \nL 149.673585 35.7555 \nL 86.503774 35.7555 \nz\n\" style=\"fill:#ffffff;\"/>\n   </g>\n   <g clip-path=\"url(#p84e2b9f10f)\">\n    <image height=\"64\" id=\"image40241c3569\" transform=\"scale(1 -1)translate(0 -64)\" width=\"64\" x=\"86.503774\" xlink:href=\"data:image/png;base64,\niVBORw0KGgoAAAANSUhEUgAAAEAAAABACAYAAACqaXHeAAAABHNCSVQICAgIfAhkiAAABWhJREFUeJztm8+LHEUUxz/dPd0zsz+yP2ezZn9k4rqumAVPQi4LIkG9iAi5CF4ED168ePMcD+JND178CwQvCoIIKq4RkSiYJQmKZLLJZk2yPyab/Tm/utvDq67q7GBC1k0mm5p3qZqq193VNe+977deVTsnnVMxFovb6gG0WpyfLx+LAdajnG7cjrMArIe5O5R7vW1dH/I2APCdEICPb5zUfWf+mgSg86Lc59B8JL+v7Wgd/8oyAI3Ff/bjPfYs1luA9RPg3E8QzBwd0/Xa+CAAm6Ni5rcnzFw2pjcBODX1BwDvDf4CwHZsHrUWZaQt8gFwnUj35ZRbmVKuq6dGGuJIGUt5M+zSffN1GdvlakGeEQYAjGRvaZ0jvtTbFtCGQcsl4z37tNSWVnVjuLL6H+qPn1hvAc6VheEYoKyiMsBGJFHTQ8JDj1sFoNc1kbrD9QCoxtJWSUX4iorM8/VeAP6uDQNQ2ilonR31jKM5sbZj2SXdN+Evq3EIEVuLOqQMO7ROQsAK3joAw5kN3dfpNAB4f+E1AM7OTQAw+JundXpK8k7WW4D1E3DgYdA7PARAXOjXbfWCuEp5SkjarefrALz63Dmtc3p4FmhbwMG3gP8r1ltAZuKsQM1O6OvGYl6gaSp3HYDJ4CYAW3Ggdcpq8ZFAUwJLAGO+XD/iyaKo35V5fqv0uta58OuTovOjQFZHaU33OetbAERrt6Xc2trr+91TrLcA6yfggQRBt7tbykNSxl3iJuvTA1rn+oywxRdOnAfg07EfdF85FJa2rNhpWblZzqlrnYIn6bXDnuh0uamUXlQDYDMW/TVFYEt1A5UXKyMyxr284OMkbRhs9QBaLRnne/GF+TPjunHsuwoAwSVZocVbkg6Ptk1aPK5WH9YYH6i0LaD24RMARC+axp4PFgD4rPgVAMuRhIlyaqPkRtgDmMjcr0gPwIDKH3S7EulXQylvR1mtsxp1ArCoIvPVqkGIxYrkEaqhRPhihxCriZzJGUxmbwCpnEHYqfvKDSFpHWocCTEr+oZs9aq/3noLsH4CrIBBJyuu5+aNCzv5vLS1ZESPkGTurXLwJYHsMA3daqXZtoCXz0taudwwMLLeEF/ZaojvbDSyTRceycsMjmfLAIwGZjNlW8FdkivYVPCZdc1i5miwAkDRl7LXrem+t/98E4CVnwSix76VlLdXMmcJ4h0ha3FN7hnXzfX3I9ZbgPUT0DIYdDISf50gUKVJydWnjwFw7aS40OiMMNNPJj7XOgmrXAol55DeNYrU/5owwYStBqm03VJD5Sz25W0OsFhBhO4m1ltA5sQ58Y/xFIwlq6cBT9LR71wQWKrMDmqd0W8E/rgk/hk3Grovrqt6ZHzuURXrLcDEAMcxjZ7aR0/K6acAWHipR+t0z8ja/KNnvgDujMJJPdk8qUYmwieSnAqrq8zvUr1b961U5bpyVe4TqfMGrhOnrpd6zhMLHsqZfEQhEOI0mJG2SqxOpIWG0CVkz3oLsH4C2jDY6gG0WtoT0OoBtFoy07/LHKShKjkrsJzA0Y7A0UbFwIinjszlA4GhLt+sxzt9WYT0BbKB2evLhkqfbzZWKup5ybOSY3MAeZUbGMsJ2Sqq3EE69f7u3BsAxLN9AIx+bVLmUemq9IWKiKmjfMTN4c56C7B+Ag4sDHrHpwC49orsKDkz5luA08e/BJoZ6WZqZyv5hqBtAQfVAvZLrLeAzMycpJcrKRjcVKummlqpBa6s74u5Fa2zG5oSWIJmaGqCJbgrND1Msd4C9i0GJFEZmiPz7qgMzZE5icoA24oUNSLJR+wmZtBMzrzUtwy7ydluYgaGnFlvAdZPQBsGWz2AVsu/jWLn6PsdUKIAAAAASUVORK5CYII=\" y=\"-34.925311\"/>\n   </g>\n   <g id=\"patch_8\">\n    <path d=\"M 86.503774 98.925311 \nL 86.503774 35.7555 \n\" style=\"fill:none;stroke:#000000;stroke-linecap:square;stroke-linejoin:miter;stroke-width:0.8;\"/>\n   </g>\n   <g id=\"patch_9\">\n    <path d=\"M 149.673585 98.925311 \nL 149.673585 35.7555 \n\" style=\"fill:none;stroke:#000000;stroke-linecap:square;stroke-linejoin:miter;stroke-width:0.8;\"/>\n   </g>\n   <g id=\"patch_10\">\n    <path d=\"M 86.503774 98.925311 \nL 149.673585 98.925311 \n\" style=\"fill:none;stroke:#000000;stroke-linecap:square;stroke-linejoin:miter;stroke-width:0.8;\"/>\n   </g>\n   <g id=\"patch_11\">\n    <path d=\"M 86.503774 35.7555 \nL 149.673585 35.7555 \n\" style=\"fill:none;stroke:#000000;stroke-linecap:square;stroke-linejoin:miter;stroke-width:0.8;\"/>\n   </g>\n   <g id=\"text_2\">\n    <!-- trouser -->\n    <defs>\n     <path d=\"M 30.609375 48.390625 \nQ 23.390625 48.390625 19.1875 42.75 \nQ 14.984375 37.109375 14.984375 27.296875 \nQ 14.984375 17.484375 19.15625 11.84375 \nQ 23.34375 6.203125 30.609375 6.203125 \nQ 37.796875 6.203125 41.984375 11.859375 \nQ 46.1875 17.53125 46.1875 27.296875 \nQ 46.1875 37.015625 41.984375 42.703125 \nQ 37.796875 48.390625 30.609375 48.390625 \nz\nM 30.609375 56 \nQ 42.328125 56 49.015625 48.375 \nQ 55.71875 40.765625 55.71875 27.296875 \nQ 55.71875 13.875 49.015625 6.21875 \nQ 42.328125 -1.421875 30.609375 -1.421875 \nQ 18.84375 -1.421875 12.171875 6.21875 \nQ 5.515625 13.875 5.515625 27.296875 \nQ 5.515625 40.765625 12.171875 48.375 \nQ 18.84375 56 30.609375 56 \nz\n\" id=\"DejaVuSans-111\"/>\n     <path d=\"M 8.5 21.578125 \nL 8.5 54.6875 \nL 17.484375 54.6875 \nL 17.484375 21.921875 \nQ 17.484375 14.15625 20.5 10.265625 \nQ 23.53125 6.390625 29.59375 6.390625 \nQ 36.859375 6.390625 41.078125 11.03125 \nQ 45.3125 15.671875 45.3125 23.6875 \nL 45.3125 54.6875 \nL 54.296875 54.6875 \nL 54.296875 0 \nL 45.3125 0 \nL 45.3125 8.40625 \nQ 42.046875 3.421875 37.71875 1 \nQ 33.40625 -1.421875 27.6875 -1.421875 \nQ 18.265625 -1.421875 13.375 4.4375 \nQ 8.5 10.296875 8.5 21.578125 \nz\nM 31.109375 56 \nz\n\" id=\"DejaVuSans-117\"/>\n     <path d=\"M 56.203125 29.59375 \nL 56.203125 25.203125 \nL 14.890625 25.203125 \nQ 15.484375 15.921875 20.484375 11.0625 \nQ 25.484375 6.203125 34.421875 6.203125 \nQ 39.59375 6.203125 44.453125 7.46875 \nQ 49.3125 8.734375 54.109375 11.28125 \nL 54.109375 2.78125 \nQ 49.265625 0.734375 44.1875 -0.34375 \nQ 39.109375 -1.421875 33.890625 -1.421875 \nQ 20.796875 -1.421875 13.15625 6.1875 \nQ 5.515625 13.8125 5.515625 26.8125 \nQ 5.515625 40.234375 12.765625 48.109375 \nQ 20.015625 56 32.328125 56 \nQ 43.359375 56 49.78125 48.890625 \nQ 56.203125 41.796875 56.203125 29.59375 \nz\nM 47.21875 32.234375 \nQ 47.125 39.59375 43.09375 43.984375 \nQ 39.0625 48.390625 32.421875 48.390625 \nQ 24.90625 48.390625 20.390625 44.140625 \nQ 15.875 39.890625 15.1875 32.171875 \nz\n\" id=\"DejaVuSans-101\"/>\n    </defs>\n    <g transform=\"translate(96.513992 16.318125)scale(0.12 -0.12)\">\n     <use xlink:href=\"#DejaVuSans-116\"/>\n     <use x=\"39.208984\" xlink:href=\"#DejaVuSans-114\"/>\n     <use x=\"80.291016\" xlink:href=\"#DejaVuSans-111\"/>\n     <use x=\"141.472656\" xlink:href=\"#DejaVuSans-117\"/>\n     <use x=\"204.851562\" xlink:href=\"#DejaVuSans-115\"/>\n     <use x=\"256.951172\" xlink:href=\"#DejaVuSans-101\"/>\n     <use x=\"318.474609\" xlink:href=\"#DejaVuSans-114\"/>\n    </g>\n    <!-- trouser -->\n    <g transform=\"translate(96.513992 29.7555)scale(0.12 -0.12)\">\n     <use xlink:href=\"#DejaVuSans-116\"/>\n     <use x=\"39.208984\" xlink:href=\"#DejaVuSans-114\"/>\n     <use x=\"80.291016\" xlink:href=\"#DejaVuSans-111\"/>\n     <use x=\"141.472656\" xlink:href=\"#DejaVuSans-117\"/>\n     <use x=\"204.851562\" xlink:href=\"#DejaVuSans-115\"/>\n     <use x=\"256.951172\" xlink:href=\"#DejaVuSans-101\"/>\n     <use x=\"318.474609\" xlink:href=\"#DejaVuSans-114\"/>\n    </g>\n   </g>\n  </g>\n  <g id=\"axes_3\">\n   <g id=\"patch_12\">\n    <path d=\"M 162.307547 98.925311 \nL 225.477358 98.925311 \nL 225.477358 35.7555 \nL 162.307547 35.7555 \nz\n\" style=\"fill:#ffffff;\"/>\n   </g>\n   <g clip-path=\"url(#pe2d9bf8fd0)\">\n    <image height=\"64\" id=\"image66acb2890d\" transform=\"scale(1 -1)translate(0 -64)\" width=\"64\" x=\"162.307547\" xlink:href=\"data:image/png;base64,\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\" y=\"-34.925311\"/>\n   </g>\n   <g id=\"patch_13\">\n    <path d=\"M 162.307547 98.925311 \nL 162.307547 35.7555 \n\" style=\"fill:none;stroke:#000000;stroke-linecap:square;stroke-linejoin:miter;stroke-width:0.8;\"/>\n   </g>\n   <g id=\"patch_14\">\n    <path d=\"M 225.477358 98.925311 \nL 225.477358 35.7555 \n\" style=\"fill:none;stroke:#000000;stroke-linecap:square;stroke-linejoin:miter;stroke-width:0.8;\"/>\n   </g>\n   <g id=\"patch_15\">\n    <path d=\"M 162.307547 98.925311 \nL 225.477358 98.925311 \n\" style=\"fill:none;stroke:#000000;stroke-linecap:square;stroke-linejoin:miter;stroke-width:0.8;\"/>\n   </g>\n   <g id=\"patch_16\">\n    <path d=\"M 162.307547 35.7555 \nL 225.477358 35.7555 \n\" style=\"fill:none;stroke:#000000;stroke-linecap:square;stroke-linejoin:miter;stroke-width:0.8;\"/>\n   </g>\n   <g id=\"text_3\">\n    <!-- pullover -->\n    <defs>\n     <path d=\"M 18.109375 8.203125 \nL 18.109375 -20.796875 \nL 9.078125 -20.796875 \nL 9.078125 54.6875 \nL 18.109375 54.6875 \nL 18.109375 46.390625 \nQ 20.953125 51.265625 25.265625 53.625 \nQ 29.59375 56 35.59375 56 \nQ 45.5625 56 51.78125 48.09375 \nQ 58.015625 40.1875 58.015625 27.296875 \nQ 58.015625 14.40625 51.78125 6.484375 \nQ 45.5625 -1.421875 35.59375 -1.421875 \nQ 29.59375 -1.421875 25.265625 0.953125 \nQ 20.953125 3.328125 18.109375 8.203125 \nz\nM 48.6875 27.296875 \nQ 48.6875 37.203125 44.609375 42.84375 \nQ 40.53125 48.484375 33.40625 48.484375 \nQ 26.265625 48.484375 22.1875 42.84375 \nQ 18.109375 37.203125 18.109375 27.296875 \nQ 18.109375 17.390625 22.1875 11.75 \nQ 26.265625 6.109375 33.40625 6.109375 \nQ 40.53125 6.109375 44.609375 11.75 \nQ 48.6875 17.390625 48.6875 27.296875 \nz\n\" id=\"DejaVuSans-112\"/>\n     <path d=\"M 9.421875 75.984375 \nL 18.40625 75.984375 \nL 18.40625 0 \nL 9.421875 0 \nz\n\" id=\"DejaVuSans-108\"/>\n     <path d=\"M 2.984375 54.6875 \nL 12.5 54.6875 \nL 29.59375 8.796875 \nL 46.6875 54.6875 \nL 56.203125 54.6875 \nL 35.6875 0 \nL 23.484375 0 \nz\n\" id=\"DejaVuSans-118\"/>\n    </defs>\n    <g transform=\"translate(169.566203 16.318125)scale(0.12 -0.12)\">\n     <use xlink:href=\"#DejaVuSans-112\"/>\n     <use x=\"63.476562\" xlink:href=\"#DejaVuSans-117\"/>\n     <use x=\"126.855469\" xlink:href=\"#DejaVuSans-108\"/>\n     <use x=\"154.638672\" xlink:href=\"#DejaVuSans-108\"/>\n     <use x=\"182.421875\" xlink:href=\"#DejaVuSans-111\"/>\n     <use x=\"243.603516\" xlink:href=\"#DejaVuSans-118\"/>\n     <use x=\"302.783203\" xlink:href=\"#DejaVuSans-101\"/>\n     <use x=\"364.306641\" xlink:href=\"#DejaVuSans-114\"/>\n    </g>\n    <!-- pullover -->\n    <g transform=\"translate(169.566203 29.7555)scale(0.12 -0.12)\">\n     <use xlink:href=\"#DejaVuSans-112\"/>\n     <use x=\"63.476562\" xlink:href=\"#DejaVuSans-117\"/>\n     <use x=\"126.855469\" xlink:href=\"#DejaVuSans-108\"/>\n     <use x=\"154.638672\" xlink:href=\"#DejaVuSans-108\"/>\n     <use x=\"182.421875\" xlink:href=\"#DejaVuSans-111\"/>\n     <use x=\"243.603516\" xlink:href=\"#DejaVuSans-118\"/>\n     <use x=\"302.783203\" xlink:href=\"#DejaVuSans-101\"/>\n     <use x=\"364.306641\" xlink:href=\"#DejaVuSans-114\"/>\n    </g>\n   </g>\n  </g>\n  <g id=\"axes_4\">\n   <g id=\"patch_17\">\n    <path d=\"M 238.111321 98.925311 \nL 301.281132 98.925311 \nL 301.281132 35.7555 \nL 238.111321 35.7555 \nz\n\" style=\"fill:#ffffff;\"/>\n   </g>\n   <g clip-path=\"url(#p2c646eaa87)\">\n    <image height=\"64\" id=\"image4cb1777e42\" transform=\"scale(1 -1)translate(0 -64)\" width=\"64\" x=\"238.111321\" xlink:href=\"data:image/png;base64,\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\" y=\"-34.925311\"/>\n   </g>\n   <g id=\"patch_18\">\n    <path d=\"M 238.111321 98.925311 \nL 238.111321 35.7555 \n\" style=\"fill:none;stroke:#000000;stroke-linecap:square;stroke-linejoin:miter;stroke-width:0.8;\"/>\n   </g>\n   <g id=\"patch_19\">\n    <path d=\"M 301.281132 98.925311 \nL 301.281132 35.7555 \n\" style=\"fill:none;stroke:#000000;stroke-linecap:square;stroke-linejoin:miter;stroke-width:0.8;\"/>\n   </g>\n   <g id=\"patch_20\">\n    <path d=\"M 238.111321 98.925311 \nL 301.281132 98.925311 \n\" style=\"fill:none;stroke:#000000;stroke-linecap:square;stroke-linejoin:miter;stroke-width:0.8;\"/>\n   </g>\n   <g id=\"patch_21\">\n    <path d=\"M 238.111321 35.7555 \nL 301.281132 35.7555 \n\" style=\"fill:none;stroke:#000000;stroke-linecap:square;stroke-linejoin:miter;stroke-width:0.8;\"/>\n   </g>\n   <g id=\"text_4\">\n    <!-- pullover -->\n    <g transform=\"translate(245.369976 16.318125)scale(0.12 -0.12)\">\n     <use xlink:href=\"#DejaVuSans-112\"/>\n     <use x=\"63.476562\" xlink:href=\"#DejaVuSans-117\"/>\n     <use x=\"126.855469\" xlink:href=\"#DejaVuSans-108\"/>\n     <use x=\"154.638672\" xlink:href=\"#DejaVuSans-108\"/>\n     <use x=\"182.421875\" xlink:href=\"#DejaVuSans-111\"/>\n     <use x=\"243.603516\" xlink:href=\"#DejaVuSans-118\"/>\n     <use x=\"302.783203\" xlink:href=\"#DejaVuSans-101\"/>\n     <use x=\"364.306641\" xlink:href=\"#DejaVuSans-114\"/>\n    </g>\n    <!-- pullover -->\n    <g transform=\"translate(245.369976 29.7555)scale(0.12 -0.12)\">\n     <use xlink:href=\"#DejaVuSans-112\"/>\n     <use x=\"63.476562\" xlink:href=\"#DejaVuSans-117\"/>\n     <use x=\"126.855469\" xlink:href=\"#DejaVuSans-108\"/>\n     <use x=\"154.638672\" xlink:href=\"#DejaVuSans-108\"/>\n     <use x=\"182.421875\" xlink:href=\"#DejaVuSans-111\"/>\n     <use x=\"243.603516\" xlink:href=\"#DejaVuSans-118\"/>\n     <use x=\"302.783203\" xlink:href=\"#DejaVuSans-101\"/>\n     <use x=\"364.306641\" xlink:href=\"#DejaVuSans-114\"/>\n    </g>\n   </g>\n  </g>\n  <g id=\"axes_5\">\n   <g id=\"patch_22\">\n    <path d=\"M 313.915094 98.925311 \nL 377.084906 98.925311 \nL 377.084906 35.7555 \nL 313.915094 35.7555 \nz\n\" style=\"fill:#ffffff;\"/>\n   </g>\n   <g clip-path=\"url(#pcad566c5f5)\">\n    <image height=\"64\" id=\"image9b1bfb1345\" transform=\"scale(1 -1)translate(0 -64)\" width=\"64\" x=\"313.915094\" xlink:href=\"data:image/png;base64,\niVBORw0KGgoAAAANSUhEUgAAAEAAAABACAYAAACqaXHeAAAABHNCSVQICAgIfAhkiAAABRJJREFUeJztm0tvHEUQx389j931rtd2FoJjwMFAAkLiIZAREpdcfEJckEB8CK6c+AxwzKfgwJELUjgBF0JASFFEBAomq9jr2I7X3tfsTHOonu4ZrxU5IfZizdSle7qq1z09/3p0VVutqY81BSZv2guYNqnu3YsaICGxgzECikRLu5sIr5NUrUx7fA6AP4fPAHD1xhXLm/txBoCl7zYB0Hf+kTZ2f0PHsXSS+Em9y2NR4RFQ+A1QL375lQZoXN61g6sX1gH4oPUbAB827gMQa2cvIwS6Q+1gnVJVyb7WVGCeQzPfySbkbe9QR7bfTcbSagXAQPsAhBk1rSjphyJCXSnLqyk/93c91MTfTFW+RECR3KD31mu2f//tBRmb1mL+L6TW/E8FAVld1oUBRYkAGwjt56ywIOC+CXw6cVPa8ZyVOTC8mpJ5oRpbXsMbAdD0+gAs+D15VlFGJu89wiMW5xvLnn4lH2fp12MZ/an/EgA/d1+wvN+3lwDY/HURgKdvyPu0frhrZeL2Ru63C0uF34Cpu8Fg+XkABpcX7Vj3YkXaFYF8/OoBAGuXblmZz85fA6DpSUBWywRCoVGV0ARkoQmMAnwr4xteiYBpI2DaVCLgm9tvanCuCpxrq5gDQ1WJnqUHEIC6UbnQ6N7tqGZ5X++8C8D37UsA7NyR3EHzD6eDT90UV1n75Q4A8dbW5OpOISArPAIKvwFHGkGvKZGftzAPQNKS54OVppXZWBU4z78j0P3ilW8tbznYBqBlIsLzvuQFZj2nJg+jrVjc3oaJ9u6aCDRNwwG0R9K/NxLe9qhheTO+qHAjGAJQN+s4Fx5YmZYv/RIBpRssOAX7n7wHQPMvpx/qlrimpNudyqJOkwqPAHX15hUNEOnADkYmC9tL5FCyE9UB6Ixmrcz2UKzu7kCKIN2BK5r0B3K6H4/kN73AZGAzOYDAjFVDySPUqyPLmw2lPxOYgMwXmYrniiih6Vc84c36Q8urmrG/+y0ArrflwDVcd+tvrJeHIaDcgLPhBlUoqqhqTs1UTYIq/dx5ADqr85a3/Ya80suvSwpscUaM+VLtgZVZqki/RMBZQMBJUuERELQ/f196ma1IgnyrA517zsrrQ88ASahz89LWGzihWkf6Mx3h1Tedi6ttiksLN0RPk/Y9aQeD47/ZManwCCj8Bjy2EVRBkGsJXW3Ha0nltX9Zrs/srYgb2192qetxQyLB2LSq7ipLyjMqF5kU2ki+kxq7+SoyVaORad10N2aCS88UpLIy2nz6EgGlGyw4Bb2PJB9Q2XMKEj4QN+Q9kFS56on70d19K5P0hKfHGcU6g1QioLorJjKadVFOb1HOzVFDssDmshZB300Me2K9g4Gx4mNnSlQs/bSOosx9Ay/K3AkwYyq9POk5C6/TQqdptD9psrWR15l5bj6530zCfAsQh/m7B4Wlwm9A4F+7DpCpnMPxyhcnR4dBPQnyoyZlgiTfvI25A5DmEdIADSBuSUGlRMC0F/DEKFNJPuyadSQxcS7NL5n/EgFTQ4Cqil6qSprvm7Q82pz/9Ui+oB4OJ2T+KxUeAYXfgKmpQApnC+sj6pD+nHFVFySvkDQbEzJeV2qaeselvOO9vWOvo0TAtBfwMLJf8iFfdPL/VR6NSgSknbT8BC50POyadCYtrQdGh6MRZ5lKBKSd7Je0/UOWObXKAN6zcrn5OJb5UazyaVPhEVD4DXgkN5iD8gm6ptOkwiPgX53asMj2U5TYAAAAAElFTkSuQmCC\" y=\"-34.925311\"/>\n   </g>\n   <g id=\"patch_23\">\n    <path d=\"M 313.915094 98.925311 \nL 313.915094 35.7555 \n\" style=\"fill:none;stroke:#000000;stroke-linecap:square;stroke-linejoin:miter;stroke-width:0.8;\"/>\n   </g>\n   <g id=\"patch_24\">\n    <path d=\"M 377.084906 98.925311 \nL 377.084906 35.7555 \n\" style=\"fill:none;stroke:#000000;stroke-linecap:square;stroke-linejoin:miter;stroke-width:0.8;\"/>\n   </g>\n   <g id=\"patch_25\">\n    <path d=\"M 313.915094 98.925311 \nL 377.084906 98.925311 \n\" style=\"fill:none;stroke:#000000;stroke-linecap:square;stroke-linejoin:miter;stroke-width:0.8;\"/>\n   </g>\n   <g id=\"patch_26\">\n    <path d=\"M 313.915094 35.7555 \nL 377.084906 35.7555 \n\" style=\"fill:none;stroke:#000000;stroke-linecap:square;stroke-linejoin:miter;stroke-width:0.8;\"/>\n   </g>\n   <g id=\"text_5\">\n    <!-- dress -->\n    <defs>\n     <path d=\"M 45.40625 46.390625 \nL 45.40625 75.984375 \nL 54.390625 75.984375 \nL 54.390625 0 \nL 45.40625 0 \nL 45.40625 8.203125 \nQ 42.578125 3.328125 38.25 0.953125 \nQ 33.9375 -1.421875 27.875 -1.421875 \nQ 17.96875 -1.421875 11.734375 6.484375 \nQ 5.515625 14.40625 5.515625 27.296875 \nQ 5.515625 40.1875 11.734375 48.09375 \nQ 17.96875 56 27.875 56 \nQ 33.9375 56 38.25 53.625 \nQ 42.578125 51.265625 45.40625 46.390625 \nz\nM 14.796875 27.296875 \nQ 14.796875 17.390625 18.875 11.75 \nQ 22.953125 6.109375 30.078125 6.109375 \nQ 37.203125 6.109375 41.296875 11.75 \nQ 45.40625 17.390625 45.40625 27.296875 \nQ 45.40625 37.203125 41.296875 42.84375 \nQ 37.203125 48.484375 30.078125 48.484375 \nQ 22.953125 48.484375 18.875 42.84375 \nQ 14.796875 37.203125 14.796875 27.296875 \nz\n\" id=\"DejaVuSans-100\"/>\n    </defs>\n    <g transform=\"translate(329.283125 16.318125)scale(0.12 -0.12)\">\n     <use xlink:href=\"#DejaVuSans-100\"/>\n     <use x=\"63.476562\" xlink:href=\"#DejaVuSans-114\"/>\n     <use x=\"104.558594\" xlink:href=\"#DejaVuSans-101\"/>\n     <use x=\"166.082031\" xlink:href=\"#DejaVuSans-115\"/>\n     <use x=\"218.181641\" xlink:href=\"#DejaVuSans-115\"/>\n    </g>\n    <!-- dress -->\n    <g transform=\"translate(329.283125 29.7555)scale(0.12 -0.12)\">\n     <use xlink:href=\"#DejaVuSans-100\"/>\n     <use x=\"63.476562\" xlink:href=\"#DejaVuSans-114\"/>\n     <use x=\"104.558594\" xlink:href=\"#DejaVuSans-101\"/>\n     <use x=\"166.082031\" xlink:href=\"#DejaVuSans-115\"/>\n     <use x=\"218.181641\" xlink:href=\"#DejaVuSans-115\"/>\n    </g>\n   </g>\n  </g>\n  <g id=\"axes_6\">\n   <g id=\"patch_27\">\n    <path d=\"M 389.718868 98.925311 \nL 452.888679 98.925311 \nL 452.888679 35.7555 \nL 389.718868 35.7555 \nz\n\" style=\"fill:#ffffff;\"/>\n   </g>\n   <g clip-path=\"url(#pc35b15ca8a)\">\n    <image height=\"64\" id=\"image4376ab8519\" transform=\"scale(1 -1)translate(0 -64)\" width=\"64\" x=\"389.718868\" xlink:href=\"data:image/png;base64,\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\" y=\"-34.925311\"/>\n   </g>\n   <g id=\"patch_28\">\n    <path d=\"M 389.718868 98.925311 \nL 389.718868 35.7555 \n\" style=\"fill:none;stroke:#000000;stroke-linecap:square;stroke-linejoin:miter;stroke-width:0.8;\"/>\n   </g>\n   <g id=\"patch_29\">\n    <path d=\"M 452.888679 98.925311 \nL 452.888679 35.7555 \n\" style=\"fill:none;stroke:#000000;stroke-linecap:square;stroke-linejoin:miter;stroke-width:0.8;\"/>\n   </g>\n   <g id=\"patch_30\">\n    <path d=\"M 389.718868 98.925311 \nL 452.888679 98.925311 \n\" style=\"fill:none;stroke:#000000;stroke-linecap:square;stroke-linejoin:miter;stroke-width:0.8;\"/>\n   </g>\n   <g id=\"patch_31\">\n    <path d=\"M 389.718868 35.7555 \nL 452.888679 35.7555 \n\" style=\"fill:none;stroke:#000000;stroke-linecap:square;stroke-linejoin:miter;stroke-width:0.8;\"/>\n   </g>\n   <g id=\"text_6\">\n    <!-- pullover -->\n    <g transform=\"translate(396.977524 16.318125)scale(0.12 -0.12)\">\n     <use xlink:href=\"#DejaVuSans-112\"/>\n     <use x=\"63.476562\" xlink:href=\"#DejaVuSans-117\"/>\n     <use x=\"126.855469\" xlink:href=\"#DejaVuSans-108\"/>\n     <use x=\"154.638672\" xlink:href=\"#DejaVuSans-108\"/>\n     <use x=\"182.421875\" xlink:href=\"#DejaVuSans-111\"/>\n     <use x=\"243.603516\" xlink:href=\"#DejaVuSans-118\"/>\n     <use x=\"302.783203\" xlink:href=\"#DejaVuSans-101\"/>\n     <use x=\"364.306641\" xlink:href=\"#DejaVuSans-114\"/>\n    </g>\n    <!-- shirt -->\n    <g transform=\"translate(407.890024 29.7555)scale(0.12 -0.12)\">\n     <use xlink:href=\"#DejaVuSans-115\"/>\n     <use x=\"52.099609\" xlink:href=\"#DejaVuSans-104\"/>\n     <use x=\"115.478516\" xlink:href=\"#DejaVuSans-105\"/>\n     <use x=\"143.261719\" xlink:href=\"#DejaVuSans-114\"/>\n     <use x=\"184.375\" xlink:href=\"#DejaVuSans-116\"/>\n    </g>\n   </g>\n  </g>\n  <g id=\"axes_7\">\n   <g id=\"patch_32\">\n    <path d=\"M 465.522642 98.925311 \nL 528.692453 98.925311 \nL 528.692453 35.7555 \nL 465.522642 35.7555 \nz\n\" style=\"fill:#ffffff;\"/>\n   </g>\n   <g clip-path=\"url(#pffa0d0877a)\">\n    <image height=\"64\" id=\"image9c126920b8\" transform=\"scale(1 -1)translate(0 -64)\" width=\"64\" x=\"465.522642\" xlink:href=\"data:image/png;base64,\niVBORw0KGgoAAAANSUhEUgAAAEAAAABACAYAAACqaXHeAAAABHNCSVQICAgIfAhkiAAAAJhJREFUeJzt0FEVABAAwEBkE0H/KsS4D7sEe5t7njs+tnSA1gAdoDVAB2gN0AFaA3SA1gAdoDVAB2gN0AFaA3SA1gAdoDVAB2gN0AFaA3SA1gAdoDVAB2gN0AFaA3SA1gAdoDVAB2gN0AFaA3SA1gAdoDVAB2gN0AFaA3SA1gAdoDVAB2gN0AFaA3SA1gAdoDVAB2gN0AHaA7fsAhjTSsd5AAAAAElFTkSuQmCC\" y=\"-34.925311\"/>\n   </g>\n   <g id=\"patch_33\">\n    <path d=\"M 465.522642 98.925311 \nL 465.522642 35.7555 \n\" style=\"fill:none;stroke:#000000;stroke-linecap:square;stroke-linejoin:miter;stroke-width:0.8;\"/>\n   </g>\n   <g id=\"patch_34\">\n    <path d=\"M 528.692453 98.925311 \nL 528.692453 35.7555 \n\" style=\"fill:none;stroke:#000000;stroke-linecap:square;stroke-linejoin:miter;stroke-width:0.8;\"/>\n   </g>\n   <g id=\"patch_35\">\n    <path d=\"M 465.522642 98.925311 \nL 528.692453 98.925311 \n\" style=\"fill:none;stroke:#000000;stroke-linecap:square;stroke-linejoin:miter;stroke-width:0.8;\"/>\n   </g>\n   <g id=\"patch_36\">\n    <path d=\"M 465.522642 35.7555 \nL 528.692453 35.7555 \n\" style=\"fill:none;stroke:#000000;stroke-linecap:square;stroke-linejoin:miter;stroke-width:0.8;\"/>\n   </g>\n   <g id=\"text_7\">\n    <!-- bag -->\n    <defs>\n     <path d=\"M 48.6875 27.296875 \nQ 48.6875 37.203125 44.609375 42.84375 \nQ 40.53125 48.484375 33.40625 48.484375 \nQ 26.265625 48.484375 22.1875 42.84375 \nQ 18.109375 37.203125 18.109375 27.296875 \nQ 18.109375 17.390625 22.1875 11.75 \nQ 26.265625 6.109375 33.40625 6.109375 \nQ 40.53125 6.109375 44.609375 11.75 \nQ 48.6875 17.390625 48.6875 27.296875 \nz\nM 18.109375 46.390625 \nQ 20.953125 51.265625 25.265625 53.625 \nQ 29.59375 56 35.59375 56 \nQ 45.5625 56 51.78125 48.09375 \nQ 58.015625 40.1875 58.015625 27.296875 \nQ 58.015625 14.40625 51.78125 6.484375 \nQ 45.5625 -1.421875 35.59375 -1.421875 \nQ 29.59375 -1.421875 25.265625 0.953125 \nQ 20.953125 3.328125 18.109375 8.203125 \nL 18.109375 0 \nL 9.078125 0 \nL 9.078125 75.984375 \nL 18.109375 75.984375 \nz\n\" id=\"DejaVuSans-98\"/>\n     <path d=\"M 34.28125 27.484375 \nQ 23.390625 27.484375 19.1875 25 \nQ 14.984375 22.515625 14.984375 16.5 \nQ 14.984375 11.71875 18.140625 8.90625 \nQ 21.296875 6.109375 26.703125 6.109375 \nQ 34.1875 6.109375 38.703125 11.40625 \nQ 43.21875 16.703125 43.21875 25.484375 \nL 43.21875 27.484375 \nz\nM 52.203125 31.203125 \nL 52.203125 0 \nL 43.21875 0 \nL 43.21875 8.296875 \nQ 40.140625 3.328125 35.546875 0.953125 \nQ 30.953125 -1.421875 24.3125 -1.421875 \nQ 15.921875 -1.421875 10.953125 3.296875 \nQ 6 8.015625 6 15.921875 \nQ 6 25.140625 12.171875 29.828125 \nQ 18.359375 34.515625 30.609375 34.515625 \nL 43.21875 34.515625 \nL 43.21875 35.40625 \nQ 43.21875 41.609375 39.140625 45 \nQ 35.0625 48.390625 27.6875 48.390625 \nQ 23 48.390625 18.546875 47.265625 \nQ 14.109375 46.140625 10.015625 43.890625 \nL 10.015625 52.203125 \nQ 14.9375 54.109375 19.578125 55.046875 \nQ 24.21875 56 28.609375 56 \nQ 40.484375 56 46.34375 49.84375 \nQ 52.203125 43.703125 52.203125 31.203125 \nz\n\" id=\"DejaVuSans-97\"/>\n     <path d=\"M 45.40625 27.984375 \nQ 45.40625 37.75 41.375 43.109375 \nQ 37.359375 48.484375 30.078125 48.484375 \nQ 22.859375 48.484375 18.828125 43.109375 \nQ 14.796875 37.75 14.796875 27.984375 \nQ 14.796875 18.265625 18.828125 12.890625 \nQ 22.859375 7.515625 30.078125 7.515625 \nQ 37.359375 7.515625 41.375 12.890625 \nQ 45.40625 18.265625 45.40625 27.984375 \nz\nM 54.390625 6.78125 \nQ 54.390625 -7.171875 48.1875 -13.984375 \nQ 42 -20.796875 29.203125 -20.796875 \nQ 24.46875 -20.796875 20.265625 -20.09375 \nQ 16.0625 -19.390625 12.109375 -17.921875 \nL 12.109375 -9.1875 \nQ 16.0625 -11.328125 19.921875 -12.34375 \nQ 23.78125 -13.375 27.78125 -13.375 \nQ 36.625 -13.375 41.015625 -8.765625 \nQ 45.40625 -4.15625 45.40625 5.171875 \nL 45.40625 9.625 \nQ 42.625 4.78125 38.28125 2.390625 \nQ 33.9375 0 27.875 0 \nQ 17.828125 0 11.671875 7.65625 \nQ 5.515625 15.328125 5.515625 27.984375 \nQ 5.515625 40.671875 11.671875 48.328125 \nQ 17.828125 56 27.875 56 \nQ 33.9375 56 38.28125 53.609375 \nQ 42.625 51.21875 45.40625 46.390625 \nL 45.40625 54.6875 \nL 54.390625 54.6875 \nz\n\" id=\"DejaVuSans-103\"/>\n    </defs>\n    <g transform=\"translate(485.812547 16.318125)scale(0.12 -0.12)\">\n     <use xlink:href=\"#DejaVuSans-98\"/>\n     <use x=\"63.476562\" xlink:href=\"#DejaVuSans-97\"/>\n     <use x=\"124.755859\" xlink:href=\"#DejaVuSans-103\"/>\n    </g>\n    <!-- bag -->\n    <g transform=\"translate(485.812547 29.7555)scale(0.12 -0.12)\">\n     <use xlink:href=\"#DejaVuSans-98\"/>\n     <use x=\"63.476562\" xlink:href=\"#DejaVuSans-97\"/>\n     <use x=\"124.755859\" xlink:href=\"#DejaVuSans-103\"/>\n    </g>\n   </g>\n  </g>\n  <g id=\"axes_8\">\n   <g id=\"patch_37\">\n    <path d=\"M 541.326415 98.925311 \nL 604.496226 98.925311 \nL 604.496226 35.7555 \nL 541.326415 35.7555 \nz\n\" style=\"fill:#ffffff;\"/>\n   </g>\n   <g clip-path=\"url(#p3de4bc1cac)\">\n    <image height=\"64\" id=\"image3d0d334e75\" transform=\"scale(1 -1)translate(0 -64)\" width=\"64\" x=\"541.326415\" xlink:href=\"data:image/png;base64,\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\" y=\"-34.925311\"/>\n   </g>\n   <g id=\"patch_38\">\n    <path d=\"M 541.326415 98.925311 \nL 541.326415 35.7555 \n\" style=\"fill:none;stroke:#000000;stroke-linecap:square;stroke-linejoin:miter;stroke-width:0.8;\"/>\n   </g>\n   <g id=\"patch_39\">\n    <path d=\"M 604.496226 98.925311 \nL 604.496226 35.7555 \n\" style=\"fill:none;stroke:#000000;stroke-linecap:square;stroke-linejoin:miter;stroke-width:0.8;\"/>\n   </g>\n   <g id=\"patch_40\">\n    <path d=\"M 541.326415 98.925311 \nL 604.496226 98.925311 \n\" style=\"fill:none;stroke:#000000;stroke-linecap:square;stroke-linejoin:miter;stroke-width:0.8;\"/>\n   </g>\n   <g id=\"patch_41\">\n    <path d=\"M 541.326415 35.7555 \nL 604.496226 35.7555 \n\" style=\"fill:none;stroke:#000000;stroke-linecap:square;stroke-linejoin:miter;stroke-width:0.8;\"/>\n   </g>\n   <g id=\"text_8\">\n    <!-- shirt -->\n    <g transform=\"translate(559.497571 16.318125)scale(0.12 -0.12)\">\n     <use xlink:href=\"#DejaVuSans-115\"/>\n     <use x=\"52.099609\" xlink:href=\"#DejaVuSans-104\"/>\n     <use x=\"115.478516\" xlink:href=\"#DejaVuSans-105\"/>\n     <use x=\"143.261719\" xlink:href=\"#DejaVuSans-114\"/>\n     <use x=\"184.375\" xlink:href=\"#DejaVuSans-116\"/>\n    </g>\n    <!-- pullover -->\n    <g transform=\"translate(548.585071 29.7555)scale(0.12 -0.12)\">\n     <use xlink:href=\"#DejaVuSans-112\"/>\n     <use x=\"63.476562\" xlink:href=\"#DejaVuSans-117\"/>\n     <use x=\"126.855469\" xlink:href=\"#DejaVuSans-108\"/>\n     <use x=\"154.638672\" xlink:href=\"#DejaVuSans-108\"/>\n     <use x=\"182.421875\" xlink:href=\"#DejaVuSans-111\"/>\n     <use x=\"243.603516\" xlink:href=\"#DejaVuSans-118\"/>\n     <use x=\"302.783203\" xlink:href=\"#DejaVuSans-101\"/>\n     <use x=\"364.306641\" xlink:href=\"#DejaVuSans-114\"/>\n    </g>\n   </g>\n  </g>\n  <g id=\"axes_9\">\n   <g id=\"patch_42\">\n    <path d=\"M 617.130189 98.925311 \nL 680.3 98.925311 \nL 680.3 35.7555 \nL 617.130189 35.7555 \nz\n\" style=\"fill:#ffffff;\"/>\n   </g>\n   <g clip-path=\"url(#pa23ea4586d)\">\n    <image height=\"64\" id=\"image7e82ae707b\" transform=\"scale(1 -1)translate(0 -64)\" width=\"64\" x=\"617.130189\" xlink:href=\"data:image/png;base64,\niVBORw0KGgoAAAANSUhEUgAAAEAAAABACAYAAACqaXHeAAAABHNCSVQICAgIfAhkiAAAAzpJREFUeJztmrtuE0EUhr+1Y3sNiXHIjYSLkoBEESIhQYGgQEKReIEUKSgQHVTwADwELwE8AAhoU0AkhCgQ4tKAhByFALk4iXFs7y7FGc/aZhMgcTxEO38zs2fmrI///T3/7K6d2U/jAcD1uRvU0f/IBSB3f44dwXGi40Gws/PtIRKmCzAN5+qRW3JZct066HdnAfByaQDWRzIAFMdCvkpjVQCOHv8BQMVL6rFqTfo1X+Y7jnxEKunpOeku6ddU3vf5Q3rMLaQAOFiQPHfZl5y1MD+1sglAkJL85dNZPVY8Ka03Wgbg7IkvAEwPvtJzZnqWAasAS4Az5Uz/fytTu6EW5UQmE4Zc6cdeAV2mC+gIlP365XIYU32rgIU7FwHwQxcjodwmvdpsQ+5SRc9Jrks/UZLW+bmpx4KUCKtyLA/AxrDYaWko5Ls4KXlTE+8AuDv8TI+9r/QCcHPuGgCDj+X3mnvQ5o0ZVgEGXUBdFScp0nO6GpajlGyEHNdVrSggyIaruJc/AEB5SDZApYFQwuU+dW6lZMen6VgOpIm9AmJPgDkbVNYU1GpNLaAtirW1P57GbWn/FVYBzvkzABSu5MLgpSUA7k0+BGDFkwXn9vMZPWfoqVjbXlhTJ58bxF4B0TbYenUcdV+faIjX7SvKxrLKvtKiElIRS812V3krdVSqYXq12hzzQo/T64mv/E/ZaiLXE87pFlXHXgGxJyDaBlvlGYi8Ar8hVrevqPxicfeVtRPKVv0IW7UK0L3/xJY6DasA3ev0VW55Tle/4wNAxVYvjwOwcEHCE+c+6yl+IPkfX4wCMDIbbqUzT17+dRmxV0A8ngpvg9grwBJgugDTiD0BkRshfYen7ubqd3q1yXE9p/42dvWUymlYSvMfpO19I1vi4PXb3VUZtUlrk23HXgHWBk0XYBqWANMFmIYlwHQBphF7AvbHP0Ra3iQD+rF8sr8PAH8gr4cqh8O/zAGkFzck/9uSjnlfFwGrgH2igJYXqYB+Kl0rzMtxveX3L+WzNWKvAEuA6QJMwxJgugDTsASYLsA0LAGmCzANS4DpAkzDEmC6ANOwBJguwDQsAaYLMA1LgOkCTCP2BPwCZ5/P+/D1p8AAAAAASUVORK5CYII=\" y=\"-34.925311\"/>\n   </g>\n   <g id=\"patch_43\">\n    <path d=\"M 617.130189 98.925311 \nL 617.130189 35.7555 \n\" style=\"fill:none;stroke:#000000;stroke-linecap:square;stroke-linejoin:miter;stroke-width:0.8;\"/>\n   </g>\n   <g id=\"patch_44\">\n    <path d=\"M 680.3 98.925311 \nL 680.3 35.7555 \n\" style=\"fill:none;stroke:#000000;stroke-linecap:square;stroke-linejoin:miter;stroke-width:0.8;\"/>\n   </g>\n   <g id=\"patch_45\">\n    <path d=\"M 617.130189 98.925311 \nL 680.3 98.925311 \n\" style=\"fill:none;stroke:#000000;stroke-linecap:square;stroke-linejoin:miter;stroke-width:0.8;\"/>\n   </g>\n   <g id=\"patch_46\">\n    <path d=\"M 617.130189 35.7555 \nL 680.3 35.7555 \n\" style=\"fill:none;stroke:#000000;stroke-linecap:square;stroke-linejoin:miter;stroke-width:0.8;\"/>\n   </g>\n   <g id=\"text_9\">\n    <!-- sandal -->\n    <defs>\n     <path d=\"M 54.890625 33.015625 \nL 54.890625 0 \nL 45.90625 0 \nL 45.90625 32.71875 \nQ 45.90625 40.484375 42.875 44.328125 \nQ 39.84375 48.1875 33.796875 48.1875 \nQ 26.515625 48.1875 22.3125 43.546875 \nQ 18.109375 38.921875 18.109375 30.90625 \nL 18.109375 0 \nL 9.078125 0 \nL 9.078125 54.6875 \nL 18.109375 54.6875 \nL 18.109375 46.1875 \nQ 21.34375 51.125 25.703125 53.5625 \nQ 30.078125 56 35.796875 56 \nQ 45.21875 56 50.046875 50.171875 \nQ 54.890625 44.34375 54.890625 33.015625 \nz\n\" id=\"DejaVuSans-110\"/>\n    </defs>\n    <g transform=\"translate(628.957282 16.318125)scale(0.12 -0.12)\">\n     <use xlink:href=\"#DejaVuSans-115\"/>\n     <use x=\"52.099609\" xlink:href=\"#DejaVuSans-97\"/>\n     <use x=\"113.378906\" xlink:href=\"#DejaVuSans-110\"/>\n     <use x=\"176.757812\" xlink:href=\"#DejaVuSans-100\"/>\n     <use x=\"240.234375\" xlink:href=\"#DejaVuSans-97\"/>\n     <use x=\"301.513672\" xlink:href=\"#DejaVuSans-108\"/>\n    </g>\n    <!-- sandal -->\n    <g transform=\"translate(628.957282 29.7555)scale(0.12 -0.12)\">\n     <use xlink:href=\"#DejaVuSans-115\"/>\n     <use x=\"52.099609\" xlink:href=\"#DejaVuSans-97\"/>\n     <use x=\"113.378906\" xlink:href=\"#DejaVuSans-110\"/>\n     <use x=\"176.757812\" xlink:href=\"#DejaVuSans-100\"/>\n     <use x=\"240.234375\" xlink:href=\"#DejaVuSans-97\"/>\n     <use x=\"301.513672\" xlink:href=\"#DejaVuSans-108\"/>\n    </g>\n   </g>\n  </g>\n </g>\n <defs>\n  <clipPath id=\"pf3eb4f313b\">\n   <rect height=\"63.169811\" width=\"63.169811\" x=\"10.7\" y=\"35.7555\"/>\n  </clipPath>\n  <clipPath id=\"p84e2b9f10f\">\n   <rect height=\"63.169811\" width=\"63.169811\" x=\"86.503774\" y=\"35.7555\"/>\n  </clipPath>\n  <clipPath id=\"pe2d9bf8fd0\">\n   <rect height=\"63.169811\" width=\"63.169811\" x=\"162.307547\" y=\"35.7555\"/>\n  </clipPath>\n  <clipPath id=\"p2c646eaa87\">\n   <rect height=\"63.169811\" width=\"63.169811\" x=\"238.111321\" y=\"35.7555\"/>\n  </clipPath>\n  <clipPath id=\"pcad566c5f5\">\n   <rect height=\"63.169811\" width=\"63.169811\" x=\"313.915094\" y=\"35.7555\"/>\n  </clipPath>\n  <clipPath id=\"pc35b15ca8a\">\n   <rect height=\"63.169811\" width=\"63.169811\" x=\"389.718868\" y=\"35.7555\"/>\n  </clipPath>\n  <clipPath id=\"pffa0d0877a\">\n   <rect height=\"63.169811\" width=\"63.169811\" x=\"465.522642\" y=\"35.7555\"/>\n  </clipPath>\n  <clipPath id=\"p3de4bc1cac\">\n   <rect height=\"63.169811\" width=\"63.169811\" x=\"541.326415\" y=\"35.7555\"/>\n  </clipPath>\n  <clipPath id=\"pa23ea4586d\">\n   <rect height=\"63.169811\" width=\"63.169811\" x=\"617.130189\" y=\"35.7555\"/>\n  </clipPath>\n </defs>\n</svg>\n"
          },
          "metadata": {
            "tags": []
          }
        }
      ]
    }
  ]
}