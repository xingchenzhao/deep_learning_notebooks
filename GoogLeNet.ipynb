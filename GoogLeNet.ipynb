{
  "nbformat": 4,
  "nbformat_minor": 0,
  "metadata": {
    "colab": {
      "name": "GoogLeNet.ipynb",
      "provenance": [],
      "include_colab_link": true
    },
    "kernelspec": {
      "name": "python3",
      "display_name": "Python 3"
    },
    "accelerator": "GPU"
  },
  "cells": [
    {
      "cell_type": "markdown",
      "metadata": {
        "id": "view-in-github",
        "colab_type": "text"
      },
      "source": [
        "<a href=\"https://colab.research.google.com/github/xingchenzhao/study_deep_learning/blob/master/GoogLeNet.ipynb\" target=\"_parent\"><img src=\"https://colab.research.google.com/assets/colab-badge.svg\" alt=\"Open In Colab\"/></a>"
      ]
    },
    {
      "cell_type": "code",
      "metadata": {
        "id": "_KG8JJLCgIwH",
        "colab_type": "code",
        "colab": {}
      },
      "source": [
        "!pip install d2lzh  # installing d2l\n",
        "!pip install -U --pre mxnet-cu101mkl  # updating mxnet to at least v1.6"
      ],
      "execution_count": 0,
      "outputs": []
    },
    {
      "cell_type": "markdown",
      "metadata": {
        "id": "5j8fBLm6gUbd",
        "colab_type": "text"
      },
      "source": [
        "![alt text](https://miro.medium.com/max/2434/1*_rCyzi7fQzc_Q1gCqSLM1g.png)"
      ]
    },
    {
      "cell_type": "code",
      "metadata": {
        "id": "8nz6glpXgife",
        "colab_type": "code",
        "colab": {}
      },
      "source": [
        "import d2lzh as d2l\n",
        "from mxnet import gluon, init, nd\n",
        "from mxnet.gluon import nn"
      ],
      "execution_count": 0,
      "outputs": []
    },
    {
      "cell_type": "code",
      "metadata": {
        "id": "N5EXjVkvg03a",
        "colab_type": "code",
        "colab": {}
      },
      "source": [
        "class Inception(nn.Block):\n",
        "  def __init__(self, c1, c2, c3, c4, **kwargs):\n",
        "    super(Inception, self).__init__(**kwargs)\n",
        "\n",
        "    self.p1_1 = nn.Conv2D(c1, kernel_size=1, activation='relu')\n",
        "    self.p1_1.\n",
        "\n",
        "    self.p2_1 = nn.Conv2D(c2[0], kernel_size=1, activation='relu')\n",
        "    self.p2_2 = nn.Conv2D(c2[1], kernel_size=3, padding=1, activation='relu')\n",
        "\n",
        "    self.p3_1 = nn.Conv2D(c3[0], kernel_size=1, activation='relu')\n",
        "    self.p3_2 = nn.Conv2D(c3[1], kernel_size=5, padding=2, activation='relu')\n",
        "\n",
        "    self.p4_1 = nn.MaxPool2D(pool_size=3, strides=1, padding=1)\n",
        "    self.p4_2 = nn.Conv2D(c4, kernel_size=1, activation='relu')\n",
        "\n",
        "  def forward(self, x):\n",
        "    p1 = self.p1_1(x)\n",
        "    p2 = self.p2_2(self.p2_1(x))\n",
        "    p3 = self.p3_2(self.p3_1(x))\n",
        "    p4 = self.p4_2(self.p4_1(x))\n",
        "    return nd.concat(p1, p2, p3, p4, dim=1)"
      ],
      "execution_count": 0,
      "outputs": []
    },
    {
      "cell_type": "markdown",
      "metadata": {
        "id": "E4TVlEIjidqo",
        "colab_type": "text"
      },
      "source": [
        "Build GoogLeNet Model"
      ]
    },
    {
      "cell_type": "code",
      "metadata": {
        "id": "hjtGenK7icCl",
        "colab_type": "code",
        "colab": {}
      },
      "source": [
        "b1 = nn.Sequential()\n",
        "b1.add(nn.Conv2D(64, kernel_size=7, strides=2, padding=3, activation='relu'),\n",
        "       nn.MaxPool2D(pool_size=3, strides=2, padding=1))"
      ],
      "execution_count": 0,
      "outputs": []
    },
    {
      "cell_type": "code",
      "metadata": {
        "id": "ATHP9WiyivPr",
        "colab_type": "code",
        "colab": {}
      },
      "source": [
        "b2 = nn.Sequential()\n",
        "b2.add(nn.Conv2D(64, kernel_size=1, activation='relu'),\n",
        "       nn.Conv2D(192, kernel_size=3, padding=1, activation='relu'),\n",
        "       nn.MaxPool2D(pool_size=3, strides=2, padding=1))"
      ],
      "execution_count": 0,
      "outputs": []
    },
    {
      "cell_type": "code",
      "metadata": {
        "id": "DFteIvfgjXjF",
        "colab_type": "code",
        "colab": {}
      },
      "source": [
        "b3 = nn.Sequential()\n",
        "b3.add(Inception(64, (96,128), (16,32), 32),\n",
        "       Inception(128, (128,192), (32,96), 64),\n",
        "       nn.MaxPool2D(pool_size=3, strides=2, padding=1))"
      ],
      "execution_count": 0,
      "outputs": []
    },
    {
      "cell_type": "code",
      "metadata": {
        "id": "hJ1d4X5LkAWi",
        "colab_type": "code",
        "colab": {}
      },
      "source": [
        "b4 = nn.Sequential()\n",
        "b4.add(Inception(192, (96,208), (16,48), 64),\n",
        "       Inception(160, (112,224), (24,64), 64),\n",
        "       Inception(128, (128,256), (24,64), 64),\n",
        "       Inception(112, (144,288), (32,64), 64),\n",
        "       Inception(256, (160,320), (32,128), 128),\n",
        "       nn.MaxPool2D(pool_size=3, strides=2, padding=1))"
      ],
      "execution_count": 0,
      "outputs": []
    },
    {
      "cell_type": "code",
      "metadata": {
        "id": "TMxu7qQ5kvoR",
        "colab_type": "code",
        "colab": {}
      },
      "source": [
        "b5 = nn.Sequential()\n",
        "b5.add(Inception(256, (160,320), (32,128),128),\n",
        "       Inception(384, (192,384), (48,128),128),\n",
        "       nn.GlobalAvgPool2D())\n",
        "\n",
        "net = nn.Sequential()\n",
        "net.add(b1, b2, b3, b4, b5, nn.Dense(10))"
      ],
      "execution_count": 0,
      "outputs": []
    },
    {
      "cell_type": "code",
      "metadata": {
        "id": "Gg1Xm3rdlScz",
        "colab_type": "code",
        "colab": {
          "base_uri": "https://localhost:8080/",
          "height": 119
        },
        "outputId": "3911d0a9-7352-4095-9666-ce807a10d909"
      },
      "source": [
        "X = nd.random.uniform(shape=(1, 1, 96, 96))\n",
        "net.initialize()\n",
        "for layer in net:\n",
        "  X = layer(X)\n",
        "  print(layer.name, 'output shape:\\t',X.shape)"
      ],
      "execution_count": 20,
      "outputs": [
        {
          "output_type": "stream",
          "text": [
            "sequential7 output shape:\t (1, 64, 24, 24)\n",
            "sequential8 output shape:\t (1, 192, 12, 12)\n",
            "sequential9 output shape:\t (1, 480, 6, 6)\n",
            "sequential10 output shape:\t (1, 832, 3, 3)\n",
            "sequential11 output shape:\t (1, 1024, 1, 1)\n",
            "dense0 output shape:\t (1, 10)\n"
          ],
          "name": "stdout"
        }
      ]
    },
    {
      "cell_type": "code",
      "metadata": {
        "id": "GJVE_qGSlvFe",
        "colab_type": "code",
        "colab": {
          "base_uri": "https://localhost:8080/",
          "height": 204
        },
        "outputId": "d7c5e9f9-73b0-4b83-87e6-d5769488c722"
      },
      "source": [
        "lr, num_epochs, batch_size, ctx = 0.05, 10, 128, d2l.try_gpu()\n",
        "net.initialize(force_reinit=True, ctx=ctx, init=init.Xavier())\n",
        "trainer = gluon.Trainer(net.collect_params(), 'sgd', {'learning_rate':lr})\n",
        "train_iter, test_iter = d2l.load_data_fashion_mnist(batch_size, resize=96)\n",
        "d2l.train_ch5(net, train_iter, test_iter, batch_size, trainer, ctx, num_epochs)"
      ],
      "execution_count": 23,
      "outputs": [
        {
          "output_type": "stream",
          "text": [
            "training on gpu(0)\n",
            "epoch 1, loss 2.0828, train acc 0.238, test acc 0.550, time 52.3 sec\n",
            "epoch 2, loss 0.8112, train acc 0.682, test acc 0.785, time 51.6 sec\n",
            "epoch 3, loss 0.8985, train acc 0.676, test acc 0.755, time 52.0 sec\n",
            "epoch 4, loss 0.5154, train acc 0.810, test acc 0.833, time 51.9 sec\n",
            "epoch 5, loss 0.4145, train acc 0.846, test acc 0.852, time 51.8 sec\n",
            "epoch 6, loss 0.3645, train acc 0.862, test acc 0.860, time 51.9 sec\n",
            "epoch 7, loss 0.3339, train acc 0.874, test acc 0.882, time 52.2 sec\n",
            "epoch 8, loss 0.3119, train acc 0.882, test acc 0.889, time 51.4 sec\n",
            "epoch 9, loss 0.2943, train acc 0.889, test acc 0.879, time 52.0 sec\n",
            "epoch 10, loss 0.2782, train acc 0.895, test acc 0.891, time 51.9 sec\n"
          ],
          "name": "stdout"
        }
      ]
    }
  ]
}