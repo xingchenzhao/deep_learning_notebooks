{
  "nbformat": 4,
  "nbformat_minor": 0,
  "metadata": {
    "colab": {
      "name": "ResNet.ipynb",
      "provenance": [],
      "include_colab_link": true
    },
    "kernelspec": {
      "name": "python3",
      "display_name": "Python 3"
    },
    "accelerator": "GPU"
  },
  "cells": [
    {
      "cell_type": "markdown",
      "metadata": {
        "id": "view-in-github",
        "colab_type": "text"
      },
      "source": [
        "<a href=\"https://colab.research.google.com/github/xingchenzhao/study_deep_learning/blob/master/ResNet.ipynb\" target=\"_parent\"><img src=\"https://colab.research.google.com/assets/colab-badge.svg\" alt=\"Open In Colab\"/></a>"
      ]
    },
    {
      "cell_type": "code",
      "metadata": {
        "id": "AuWLukj2T_Uc",
        "colab_type": "code",
        "colab": {}
      },
      "source": [
        "!pip install d2lzh  # installing d2l\n",
        "!pip install -U --pre mxnet-cu101mkl  # updating mxnet to at least v1.6"
      ],
      "execution_count": 0,
      "outputs": []
    },
    {
      "cell_type": "code",
      "metadata": {
        "id": "7-WsXRCxUFCZ",
        "colab_type": "code",
        "colab": {}
      },
      "source": [
        "import d2lzh as d2l\n",
        "from mxnet import gluon, init, nd\n",
        "from mxnet.gluon import nn"
      ],
      "execution_count": 0,
      "outputs": []
    },
    {
      "cell_type": "code",
      "metadata": {
        "id": "2492A-i7UHX1",
        "colab_type": "code",
        "colab": {}
      },
      "source": [
        "class Residual(nn.Block): \n",
        "  def __init__(self, num_channels, use_1x1conv=False, **kwargs):\n",
        "    super(Residual, self).__init__(**kwargs)\n",
        "    strides = 1 if not use_1x1conv else 2\n",
        "    self.conv1 = nn.Conv2D(num_channels, kernel_size=3, padding=1, \n",
        "                           strides=strides) #strides here could be changed if the shapes are different\n",
        "    self.conv2 = nn.Conv2D(num_channels, kernel_size=3, padding=1)\n",
        "    if use_1x1conv:\n",
        "      self.conv3 = nn.Conv2D(num_channels, kernel_size=1, strides=strides)\n",
        "    else:\n",
        "      self.conv3=None\n",
        "    self.bn1 = nn.BatchNorm()\n",
        "    self.bn2 = nn.BatchNorm()\n",
        "\n",
        "  def forward(self, X):\n",
        "    Y = nd.relu(self.bn1(self.conv1(X)))\n",
        "    Y = self.bn2(self.conv2(Y))\n",
        "    if self.conv3:\n",
        "      X = self.conv3(X)\n",
        "    return nd.relu(Y + X)\n"
      ],
      "execution_count": 0,
      "outputs": []
    },
    {
      "cell_type": "markdown",
      "metadata": {
        "id": "T2YqlKafbrxZ",
        "colab_type": "text"
      },
      "source": [
        "Let's check the input and output shape"
      ]
    },
    {
      "cell_type": "code",
      "metadata": {
        "id": "d4VN79_Vbq5M",
        "colab_type": "code",
        "outputId": "e1e77055-d1aa-4f99-bdc3-9c2b6fab3f7f",
        "colab": {
          "base_uri": "https://localhost:8080/",
          "height": 34
        }
      },
      "source": [
        "blk = Residual(3)\n",
        "blk.initialize()\n",
        "X = nd.random.uniform(shape = (4,3,6,6))\n",
        "blk(X).shape"
      ],
      "execution_count": 0,
      "outputs": [
        {
          "output_type": "execute_result",
          "data": {
            "text/plain": [
              "(4, 3, 6, 6)"
            ]
          },
          "metadata": {
            "tags": []
          },
          "execution_count": 4
        }
      ]
    },
    {
      "cell_type": "markdown",
      "metadata": {
        "id": "5sw8QPxTcbIb",
        "colab_type": "text"
      },
      "source": [
        "We can see that as the channels increase, the height and width decrease"
      ]
    },
    {
      "cell_type": "code",
      "metadata": {
        "id": "9Lo8sSM7cI4h",
        "colab_type": "code",
        "outputId": "715ebaa1-2e2d-4c42-e2fe-d55b4fc761c0",
        "colab": {
          "base_uri": "https://localhost:8080/",
          "height": 34
        }
      },
      "source": [
        "blk = Residual(6, use_1x1conv=True)\n",
        "blk.initialize()\n",
        "blk(X).shape"
      ],
      "execution_count": 0,
      "outputs": [
        {
          "output_type": "execute_result",
          "data": {
            "text/plain": [
              "(4, 6, 3, 3)"
            ]
          },
          "metadata": {
            "tags": []
          },
          "execution_count": 5
        }
      ]
    },
    {
      "cell_type": "markdown",
      "metadata": {
        "id": "wyFeJVYecjuT",
        "colab_type": "text"
      },
      "source": [
        "ResNet Model"
      ]
    },
    {
      "cell_type": "code",
      "metadata": {
        "id": "soPoA4xwclFu",
        "colab_type": "code",
        "colab": {}
      },
      "source": [
        "net = nn.Sequential()\n",
        "net.add(nn.Conv2D(64, kernel_size=7, strides=2, padding=3),\n",
        "        nn.BatchNorm(), nn.Activation('relu'),\n",
        "        nn.MaxPool2D(pool_size=3, strides=2, padding=1))"
      ],
      "execution_count": 0,
      "outputs": []
    },
    {
      "cell_type": "code",
      "metadata": {
        "id": "67QosmnXci-C",
        "colab_type": "code",
        "colab": {}
      },
      "source": [
        "def resnet_blk(num_channels, num_residuals, first_block=False):\n",
        "  blk = nn.Sequential()\n",
        "  for i in range(num_residuals):\n",
        "    if i == 0 and not first_block:\n",
        "      blk.add(Residual(num_channels, use_1x1conv=True))\n",
        "    else:\n",
        "      blk.add(Residual(num_channels))\n",
        "  return blk"
      ],
      "execution_count": 0,
      "outputs": []
    },
    {
      "cell_type": "code",
      "metadata": {
        "id": "Q23ettdFmdiP",
        "colab_type": "code",
        "colab": {}
      },
      "source": [
        "# Using ResNet-34\n",
        "net.add(resnet_blk(64, 3, first_block=True),\n",
        "        resnet_blk(128, 4),\n",
        "        resnet_blk(256, 6),\n",
        "        resnet_blk(512, 3))"
      ],
      "execution_count": 0,
      "outputs": []
    },
    {
      "cell_type": "code",
      "metadata": {
        "id": "xbzvg0C6oGEz",
        "colab_type": "code",
        "colab": {}
      },
      "source": [
        "net.add(nn.GlobalAvgPool2D(), nn.Dense(10))"
      ],
      "execution_count": 0,
      "outputs": []
    },
    {
      "cell_type": "markdown",
      "metadata": {
        "id": "n-H94LewoRul",
        "colab_type": "text"
      },
      "source": [
        "Check the shape"
      ]
    },
    {
      "cell_type": "code",
      "metadata": {
        "id": "oBQadGFgoLEj",
        "colab_type": "code",
        "outputId": "898f062d-470a-4195-e824-a65e98bb967e",
        "colab": {
          "base_uri": "https://localhost:8080/",
          "height": 187
        }
      },
      "source": [
        "X = nd.random.uniform(shape=(1, 1, 224, 224))\n",
        "net.initialize()\n",
        "for layer in net:\n",
        "  X = layer(X)\n",
        "  print(layer.name, 'output shape\\t', X.shape)"
      ],
      "execution_count": 0,
      "outputs": [
        {
          "output_type": "stream",
          "text": [
            "conv5 output shape\t (1, 64, 112, 112)\n",
            "batchnorm4 output shape\t (1, 64, 112, 112)\n",
            "relu0 output shape\t (1, 64, 112, 112)\n",
            "pool0 output shape\t (1, 64, 56, 56)\n",
            "sequential1 output shape\t (1, 64, 56, 56)\n",
            "sequential2 output shape\t (1, 128, 28, 28)\n",
            "sequential3 output shape\t (1, 256, 14, 14)\n",
            "sequential4 output shape\t (1, 512, 7, 7)\n",
            "pool1 output shape\t (1, 512, 1, 1)\n",
            "dense0 output shape\t (1, 10)\n"
          ],
          "name": "stdout"
        }
      ]
    },
    {
      "cell_type": "markdown",
      "metadata": {
        "id": "thHN6k4Zor-L",
        "colab_type": "text"
      },
      "source": [
        "Training the ResNet by Fashion-MNIST"
      ]
    },
    {
      "cell_type": "code",
      "metadata": {
        "id": "xS9_rhaloqPu",
        "colab_type": "code",
        "outputId": "46543437-6840-4f17-ed16-0cd6f4a6d25a",
        "colab": {
          "base_uri": "https://localhost:8080/",
          "height": 289
        }
      },
      "source": [
        "lr, num_epochs, batch_size, ctx = 0.05, 15, 256, d2l.try_gpu()\n",
        "net.initialize(force_reinit=True, ctx=ctx, init=init.Xavier())\n",
        "trainer = gluon.Trainer(net.collect_params(), 'sgd', {'learning_rate':lr})\n",
        "train_iter, test_iter = d2l.load_data_fashion_mnist(batch_size, resize=96)\n",
        "d2l.train_ch5(net, train_iter, test_iter, batch_size, trainer, ctx, num_epochs)"
      ],
      "execution_count": 0,
      "outputs": [
        {
          "output_type": "stream",
          "text": [
            "training on gpu(0)\n",
            "epoch 1, loss 0.7401, train acc 0.792, test acc 0.865, time 48.0 sec\n",
            "epoch 2, loss 0.2835, train acc 0.895, test acc 0.903, time 45.5 sec\n",
            "epoch 3, loss 0.2206, train acc 0.918, test acc 0.913, time 45.5 sec\n",
            "epoch 4, loss 0.1787, train acc 0.934, test acc 0.918, time 45.6 sec\n",
            "epoch 5, loss 0.1451, train acc 0.946, test acc 0.922, time 45.5 sec\n",
            "epoch 6, loss 0.1154, train acc 0.958, test acc 0.912, time 45.5 sec\n",
            "epoch 7, loss 0.0914, train acc 0.967, test acc 0.898, time 45.4 sec\n",
            "epoch 8, loss 0.0718, train acc 0.973, test acc 0.921, time 45.5 sec\n",
            "epoch 9, loss 0.0602, train acc 0.978, test acc 0.917, time 45.6 sec\n",
            "epoch 10, loss 0.0453, train acc 0.983, test acc 0.901, time 45.5 sec\n",
            "epoch 11, loss 0.0337, train acc 0.988, test acc 0.919, time 45.4 sec\n",
            "epoch 12, loss 0.0258, train acc 0.991, test acc 0.905, time 45.4 sec\n",
            "epoch 13, loss 0.0202, train acc 0.993, test acc 0.920, time 45.5 sec\n",
            "epoch 14, loss 0.0224, train acc 0.992, test acc 0.901, time 45.5 sec\n",
            "epoch 15, loss 0.0202, train acc 0.993, test acc 0.895, time 45.5 sec\n"
          ],
          "name": "stdout"
        }
      ]
    }
  ]
}